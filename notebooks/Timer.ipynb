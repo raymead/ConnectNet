{
 "cells": [
  {
   "cell_type": "code",
   "execution_count": 4,
   "id": "056ba4ba",
   "metadata": {
    "pycharm": {
     "name": "#%%\n"
    }
   },
   "outputs": [
    {
     "name": "stdout",
     "output_type": "stream",
     "text": [
      "The autoreload extension is already loaded. To reload it, use:\n",
      "  %reload_ext autoreload\n"
     ]
    }
   ],
   "source": [
    "import sys\n",
    "if \"/Users/raymond/code/FinalProject563\" not in sys.path:\n",
    "    sys.path.append(\"/Users/raymond/code/FinalProject563\")\n",
    "import pandas\n",
    "import numpy as np\n",
    "import torch\n",
    "import matplotlib.pyplot as plt\n",
    "import random\n",
    "\n",
    "import connect_four\n",
    "import mcts\n",
    "import connect_net\n",
    "import connect_plot\n",
    "import evaluation\n",
    "%matplotlib inline\n",
    "%load_ext autoreload\n",
    "%autoreload 2"
   ]
  },
  {
   "cell_type": "code",
   "execution_count": 12,
   "id": "ac38072c",
   "metadata": {
    "pycharm": {
     "name": "#%%\n"
    }
   },
   "outputs": [],
   "source": [
    "nnet = connect_net.ConnectNet()\n",
    "strategy = evaluation.NetworkStrategy(nnet=nnet, c=1, num_mcts_sims=1024, random_moves=4)\n",
    "game_cache = connect_four.GameCache()\n",
    "strategy.setup(game_cache=game_cache)\n",
    "\n",
    "state = connect_four.start_state()\n",
    "rep = connect_four.to_rep(state=state)"
   ]
  },
  {
   "cell_type": "code",
   "execution_count": 14,
   "id": "920a974e",
   "metadata": {
    "scrolled": false,
    "pycharm": {
     "name": "#%%\n"
    }
   },
   "outputs": [
    {
     "name": "stdout",
     "output_type": "stream",
     "text": [
      "         219363 function calls (199779 primitive calls) in 1.707 seconds\n",
      "\n",
      "   Ordered by: internal time\n",
      "\n",
      "   ncalls  tottime  percall  cumtime  percall filename:lineno(function)\n",
      "6208/1024    0.397    0.000    1.698    0.002 mcts.py:89(search)\n",
      "5184/1024    0.378    0.000    1.582    0.002 mcts.py:32(search_action)\n",
      "     2048    0.274    0.000    0.274    0.000 {built-in method conv2d}\n",
      "     6557    0.058    0.000    0.058    0.000 {built-in method rsub}\n",
      "     1024    0.051    0.000    0.075    0.000 connect_four.py:32(game_ended)\n",
      "     4096    0.044    0.000    0.044    0.000 {built-in method tanh}\n",
      "     6208    0.041    0.000    0.041    0.000 {method 'sum' of 'torch._C._TensorBase' objects}\n",
      "     2048    0.039    0.000    0.039    0.000 {built-in method torch._C._nn.linear}\n",
      "     1373    0.038    0.000    0.064    0.000 connect_four.py:45(next_state)\n",
      "     1024    0.031    0.000    0.491    0.000 connect_net.py:35(forward)\n",
      "     5184    0.029    0.000    0.029    0.000 {built-in method argmax}\n",
      "     5184    0.028    0.000    0.150    0.000 connect_four.py:74(next_state_rep)\n",
      "11264/1024    0.027    0.000    0.496    0.000 module.py:1104(_call_impl)\n",
      "    59039    0.026    0.000    0.026    0.000 connect_four.py:60(<genexpr>)\n",
      "     5184    0.025    0.000    0.025    0.000 {method 'abs' of 'torch._C._TensorBase' objects}\n",
      "     5184    0.019    0.000    0.019    0.000 {method 'sqrt' of 'torch._C._TensorBase' objects}\n",
      "     2048    0.019    0.000    0.432    0.000 container.py:139(forward)\n",
      "     1373    0.015    0.000    0.057    0.000 connect_four.py:59(to_rep)\n",
      "     1373    0.012    0.000    0.038    0.000 {method 'join' of 'str' objects}\n",
      "     2397    0.012    0.000    0.012    0.000 {method 'count_nonzero' of 'torch._C._TensorBase' objects}\n",
      "     1024    0.009    0.000    0.009    0.000 {method 'softmax' of 'torch._C._TensorBase' objects}\n",
      "     6557    0.009    0.000    0.079    0.000 _tensor.py:26(wrapped)\n",
      "        1    0.009    0.009    1.707    1.707 mcts.py:24(simulate_moves)\n",
      "    11264    0.009    0.000    0.009    0.000 {built-in method torch._C._get_tracing_state}\n",
      "     1024    0.009    0.000    0.510    0.000 connect_net.py:47(network)\n",
      "    10240    0.009    0.000    0.009    0.000 module.py:1172(__getattr__)\n",
      "     2048    0.009    0.000    0.009    0.000 {built-in method zeros}\n",
      "     1024    0.008    0.000    0.008    0.000 {method 'flatten' of 'torch._C._TensorBase' objects}\n",
      "     2048    0.008    0.000    0.288    0.000 conv.py:446(forward)\n",
      "     6557    0.007    0.000    0.068    0.000 _tensor.py:600(__rsub__)\n",
      "     2048    0.007    0.000    0.049    0.000 linear.py:102(forward)\n",
      "     1373    0.007    0.000    0.007    0.000 {method 'clone' of 'torch._C._TensorBase' objects}\n",
      "     6208    0.006    0.000    0.082    0.000 connect_four.py:69(game_ended)\n",
      "     1024    0.005    0.000    0.005    0.000 {method 'max' of 'torch._C._TensorBase' objects}\n",
      "     1024    0.005    0.000    0.005    0.000 {method 'view' of 'torch._C._TensorBase' objects}\n",
      "     1373    0.004    0.000    0.004    0.000 {method 'tolist' of 'torch._C._TensorBase' objects}\n",
      "     2048    0.004    0.000    0.277    0.000 conv.py:438(_conv_forward)\n",
      "     1024    0.004    0.000    0.013    0.000 mcts.py:41(init_node)\n",
      "     1024    0.004    0.000    0.004    0.000 {method 'min' of 'torch._C._TensorBase' objects}\n",
      "     2048    0.003    0.000    0.004    0.000 container.py:131(__iter__)\n",
      "     3072    0.002    0.000    0.039    0.000 activation.py:356(forward)\n",
      "     1024    0.002    0.000    0.012    0.000 functional.py:1788(softmax)\n",
      "     6557    0.002    0.000    0.002    0.000 {built-in method torch._C._has_torch_function_variadic}\n",
      "     6557    0.002    0.000    0.002    0.000 {built-in method torch._C._has_torch_function}\n",
      "     1024    0.001    0.000    0.009    0.000 flatten.py:44(forward)\n",
      "     2048    0.001    0.000    0.001    0.000 {built-in method builtins.iter}\n",
      "     2048    0.001    0.000    0.001    0.000 {method 'values' of 'collections.OrderedDict' objects}\n",
      "     1024    0.000    0.000    0.000    0.000 {method 'add' of 'set' objects}\n",
      "     1024    0.000    0.000    0.000    0.000 {built-in method torch._C._has_torch_function_unary}\n",
      "        1    0.000    0.000    1.707    1.707 {built-in method builtins.exec}\n",
      "        1    0.000    0.000    1.707    1.707 evaluation.py:53(simulate)\n",
      "        1    0.000    0.000    1.707    1.707 <string>:1(<module>)\n",
      "        1    0.000    0.000    0.000    0.000 {method 'disable' of '_lsprof.Profiler' objects}\n",
      "\n",
      "\n"
     ]
    }
   ],
   "source": [
    "import cProfile\n",
    "cProfile.run('strategy.simulate(state=state, rep=rep)', sort=\"tottime\")"
   ]
  },
  {
   "cell_type": "code",
   "execution_count": null,
   "id": "f0c71e91",
   "metadata": {
    "pycharm": {
     "name": "#%%\n"
    }
   },
   "outputs": [],
   "source": []
  },
  {
   "cell_type": "code",
   "execution_count": null,
   "id": "ea7966c2",
   "metadata": {
    "pycharm": {
     "name": "#%%\n"
    }
   },
   "outputs": [],
   "source": []
  },
  {
   "cell_type": "code",
   "execution_count": 38,
   "id": "6cd56b03",
   "metadata": {
    "pycharm": {
     "name": "#%%\n"
    }
   },
   "outputs": [
    {
     "name": "stdout",
     "output_type": "stream",
     "text": [
      "\n",
      "Iteration: 0::0,"
     ]
    }
   ],
   "source": [
    "examples = mcts.policy_iteration(nnet=nnet, num_iterations=1, num_episodes=1, num_mcts_sims=128)"
   ]
  },
  {
   "cell_type": "code",
   "execution_count": 4,
   "id": "2d57ced3",
   "metadata": {
    "pycharm": {
     "name": "#%%\n"
    }
   },
   "outputs": [],
   "source": [
    "test_state = np.zeros([6,7], dtype=np.int32)\n",
    "test_state[5,3] = 1\n",
    "test_state[5,2] = -1\n",
    "test_state[4,3] = 1\n",
    "test_state[3,3] = 1\n",
    "test_state[2,3] = 1\n",
    "test_state[0,0] = 1\n",
    "test_state[1,0] = -1\n",
    "test_state[2,0] = 1\n",
    "test_state[3,0] = -1\n",
    "test_state[4,0] = 1\n",
    "test_state[5,0] = -1\n",
    "test_state_tensor = torch.Tensor(test_state).reshape(6, 7)\n",
    "\n",
    "test = {}\n",
    "test[\"12948731587817346817264812764817623\"] = 10"
   ]
  },
  {
   "cell_type": "code",
   "execution_count": 11,
   "id": "04500b39",
   "metadata": {
    "pycharm": {
     "name": "#%%\n"
    }
   },
   "outputs": [],
   "source": [
    "N = torch.Tensor([1, 2, 3, 4, 5, 6, 7])\n",
    "Q = torch.Tensor([1, 2, 3, 4, 5, 6, 7])\n",
    "P = torch.Tensor([1, 2, 3, 4, 5, 6, 7])\n",
    "c = 1"
   ]
  },
  {
   "cell_type": "code",
   "execution_count": 24,
   "id": "8d3956a2",
   "metadata": {
    "pycharm": {
     "name": "#%%\n"
    }
   },
   "outputs": [
    {
     "name": "stdout",
     "output_type": "stream",
     "text": [
      "1\n",
      "2\n",
      "3\n",
      "4\n",
      "5\n",
      "6\n"
     ]
    },
    {
     "data": {
      "text/plain": [
       "6"
      ]
     },
     "execution_count": 24,
     "metadata": {},
     "output_type": "execute_result"
    }
   ],
   "source": [
    "def old():\n",
    "    max_u, best_a = -torch.inf, -1\n",
    "    # for a in self.nc.actions(state=state, rep=rep):\n",
    "    for a in connect_four.get_valid_actions(state=test_state_tensor):\n",
    "        visits = 1 + N[a]\n",
    "        u_explore = (N.sum() + 1).sqrt() / visits\n",
    "        u = Q[a] / visits + c * P[a] * u_explore\n",
    "        if u > max_u:\n",
    "            max_u = u\n",
    "            best_a = a\n",
    "        print(a)\n",
    "    a = best_a\n",
    "    return a\n",
    "old()"
   ]
  },
  {
   "cell_type": "code",
   "execution_count": 30,
   "id": "132cad57",
   "metadata": {
    "pycharm": {
     "name": "#%%\n"
    }
   },
   "outputs": [
    {
     "data": {
      "text/plain": [
       "6"
      ]
     },
     "execution_count": 30,
     "metadata": {},
     "output_type": "execute_result"
    }
   ],
   "source": [
    "1-test_state_tensor[0,:]\n",
    "\n",
    "visits = 1 + N\n",
    "u_explore = (N.sum() + 1).sqrt() / visits\n",
    "u = 1 + Q / visits + c * P * u_explore\n",
    "u = u * (1 - test_state_tensor[0, :])\n",
    "int(torch.argmax(u))"
   ]
  },
  {
   "cell_type": "code",
   "execution_count": 31,
   "id": "9558fa44",
   "metadata": {
    "pycharm": {
     "name": "#%%\n"
    }
   },
   "outputs": [
    {
     "data": {
      "text/plain": [
       "tensor([1., 0., 0., 0., 0., 0., 0.])"
      ]
     },
     "execution_count": 31,
     "metadata": {},
     "output_type": "execute_result"
    }
   ],
   "source": [
    "test_state_tensor[0, :]"
   ]
  },
  {
   "cell_type": "code",
   "execution_count": 27,
   "id": "f4d12851",
   "metadata": {
    "pycharm": {
     "name": "#%%\n"
    }
   },
   "outputs": [
    {
     "data": {
      "text/plain": [
       "tensor([0.0000, 5.2568, 5.7889, 6.1081, 6.3210, 6.4730, 6.5870])"
      ]
     },
     "execution_count": 27,
     "metadata": {},
     "output_type": "execute_result"
    }
   ],
   "source": [
    "u*(1-test_state_tensor[0,:])"
   ]
  },
  {
   "cell_type": "code",
   "execution_count": null,
   "id": "32eb5669",
   "metadata": {
    "pycharm": {
     "name": "#%%\n"
    }
   },
   "outputs": [],
   "source": []
  },
  {
   "cell_type": "code",
   "execution_count": null,
   "id": "f4d7d876",
   "metadata": {
    "pycharm": {
     "name": "#%%\n"
    }
   },
   "outputs": [],
   "source": []
  }
 ],
 "metadata": {
  "kernelspec": {
   "display_name": "Python 3 (ipykernel)",
   "language": "python",
   "name": "python3"
  },
  "language_info": {
   "codemirror_mode": {
    "name": "ipython",
    "version": 3
   },
   "file_extension": ".py",
   "mimetype": "text/x-python",
   "name": "python",
   "nbconvert_exporter": "python",
   "pygments_lexer": "ipython3",
   "version": "3.9.7"
  }
 },
 "nbformat": 4,
 "nbformat_minor": 5
}