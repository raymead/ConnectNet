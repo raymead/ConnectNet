{
 "cells": [
  {
   "cell_type": "code",
   "execution_count": 2,
   "id": "056ba4ba",
   "metadata": {},
   "outputs": [
    {
     "name": "stdout",
     "output_type": "stream",
     "text": [
      "The autoreload extension is already loaded. To reload it, use:\n",
      "  %reload_ext autoreload\n"
     ]
    }
   ],
   "source": [
    "import sys\n",
    "if \"/Users/raymond/code/FinalProject563\" not in sys.path:\n",
    "    sys.path.append(\"/Users/raymond/code/FinalProject563\")\n",
    "import pandas\n",
    "import numpy as np\n",
    "import torch\n",
    "import matplotlib.pyplot as plt\n",
    "import random\n",
    "\n",
    "import connect_four\n",
    "import mcts\n",
    "import connect_net\n",
    "import connect_plot\n",
    "%matplotlib inline\n",
    "%load_ext autoreload\n",
    "%autoreload 2"
   ]
  },
  {
   "cell_type": "code",
   "execution_count": 32,
   "id": "ac38072c",
   "metadata": {},
   "outputs": [],
   "source": [
    "nnet = connect_net.ConnectNet()\n",
    "# nnet = connect_net.load_model(\"model_save_04.model\")\n",
    "optimizer = torch.optim.Adam(nnet.parameters(), lr=0.001)"
   ]
  },
  {
   "cell_type": "code",
   "execution_count": 48,
   "id": "920a974e",
   "metadata": {
    "scrolled": false
   },
   "outputs": [
    {
     "name": "stdout",
     "output_type": "stream",
     "text": [
      "\n",
      "Iteration: 0::0,1,2,3,4,5,6,7,         7422698 function calls (6892608 primitive calls) in 31.293 seconds\n",
      "\n",
      "   Ordered by: internal time\n",
      "\n",
      "   ncalls  tottime  percall  cumtime  percall filename:lineno(function)\n",
      "223770/47360   10.561    0.000   30.927    0.001 mcts.py:55(search)\n",
      "    70736    7.009    0.000    7.009    0.000 {built-in method conv2d}\n",
      "   220674    1.190    0.000    1.190    0.000 {built-in method rsub}\n",
      "    36385    1.122    0.000    1.625    0.000 connect_four.py:31(game_ended)\n",
      "   212980    0.791    0.000    0.791    0.000 {method 'sum' of 'torch._C._TensorBase' objects}\n",
      "    44264    0.748    0.000    1.252    0.000 connect_four.py:44(next_state)\n",
      "389048/35368    0.640    0.000   11.583    0.000 module.py:1104(_call_impl)\n",
      "   176410    0.613    0.000    0.613    0.000 {built-in method argmax}\n",
      "   176595    0.610    0.000    3.028    0.000 mcts.py:37(next_state_rep)\n",
      "   176410    0.607    0.000    0.607    0.000 {method 'abs' of 'torch._C._TensorBase' objects}\n",
      "    70736    0.607    0.000    0.607    0.000 {built-in method torch._C._nn.linear}\n",
      "    35368    0.546    0.000   11.461    0.000 connect_net.py:24(forward)\n",
      "   106104    0.515    0.000    0.515    0.000 {built-in method relu}\n",
      "  1903696    0.515    0.000    0.515    0.000 connect_four.py:55(<genexpr>)\n",
      "    70736    0.446    0.000   10.430    0.000 container.py:139(forward)\n",
      "   176410    0.355    0.000    0.355    0.000 {method 'sqrt' of 'torch._C._TensorBase' objects}\n",
      "    44272    0.313    0.000    1.167    0.000 connect_four.py:54(to_rep)\n",
      "    44272    0.266    0.000    0.781    0.000 {method 'join' of 'str' objects}\n",
      "    70736    0.218    0.000    0.251    0.000 container.py:131(__iter__)\n",
      "    79632    0.209    0.000    0.209    0.000 {method 'count_nonzero' of 'torch._C._TensorBase' objects}\n",
      "   389233    0.206    0.000    0.206    0.000 {built-in method torch._C._get_tracing_state}\n",
      "   220674    0.196    0.000    1.612    0.000 _tensor.py:26(wrapped)\n",
      "    70736    0.193    0.000    7.345    0.000 conv.py:446(forward)\n",
      "   353680    0.191    0.000    0.191    0.000 module.py:1172(__getattr__)\n",
      "    78278    0.183    0.000    0.183    0.000 {built-in method zeros}\n",
      "    39135    0.175    0.000   11.863    0.000 mcts.py:25(network)\n",
      "    35368    0.171    0.000    0.171    0.000 {method 'flatten' of 'torch._C._TensorBase' objects}\n",
      "    70736    0.171    0.000    0.841    0.000 linear.py:102(forward)\n",
      "   223955    0.166    0.000    1.791    0.000 mcts.py:32(game_ended)\n",
      "   220674    0.161    0.000    1.379    0.000 _tensor.py:600(__rsub__)\n",
      "        1    0.145    0.145   31.293   31.293 <string>:1(<module>)\n",
      "    35368    0.137    0.000    0.137    0.000 {built-in method tanh}\n",
      "    44264    0.135    0.000    0.135    0.000 {method 'clone' of 'torch._C._TensorBase' objects}\n",
      "    35368    0.122    0.000    0.122    0.000 {method 'softmax' of 'torch._C._TensorBase' objects}\n",
      "        8    0.122    0.015   31.077    3.885 mcts.py:132(execute_episode)\n",
      "    35368    0.104    0.000    0.104    0.000 {method 'view' of 'torch._C._TensorBase' objects}\n",
      "    36385    0.098    0.000    0.098    0.000 {method 'max' of 'torch._C._TensorBase' objects}\n",
      "   106104    0.097    0.000    0.728    0.000 activation.py:97(forward)\n",
      "   106104    0.094    0.000    0.631    0.000 functional.py:1431(relu)\n",
      "    70736    0.092    0.000    7.102    0.000 conv.py:438(_conv_forward)\n",
      "    36385    0.080    0.000    0.080    0.000 {method 'min' of 'torch._C._TensorBase' objects}\n",
      "    44272    0.073    0.000    0.073    0.000 {method 'tolist' of 'torch._C._TensorBase' objects}\n",
      "        1    0.070    0.070   31.149   31.149 mcts.py:87(policy_iteration)\n",
      "   220674    0.036    0.000    0.036    0.000 {built-in method torch._C._has_torch_function}\n",
      "    35368    0.034    0.000    0.206    0.000 flatten.py:44(forward)\n",
      "    35368    0.033    0.000    0.160    0.000 functional.py:1788(softmax)\n",
      "   220674    0.028    0.000    0.028    0.000 {built-in method torch._C._has_torch_function_variadic}\n",
      "   141842    0.026    0.000    0.026    0.000 {built-in method torch._C._has_torch_function_unary}\n",
      "    70736    0.017    0.000    0.017    0.000 {method 'values' of 'collections.OrderedDict' objects}\n",
      "    70736    0.017    0.000    0.017    0.000 {built-in method builtins.iter}\n",
      "      185    0.011    0.000    0.022    0.000 {method 'multinomial' of 'numpy.random.mtrand.RandomState' objects}\n",
      "    39135    0.010    0.000    0.010    0.000 {method 'add' of 'set' objects}\n",
      "      370    0.003    0.000    0.003    0.000 {method 'reduce' of 'numpy.ufunc' objects}\n",
      "      185    0.002    0.000    0.002    0.000 {method 'astype' of 'numpy.ndarray' objects}\n",
      "      370    0.001    0.000    0.005    0.000 fromnumeric.py:69(_wrapreduction)\n",
      "      185    0.001    0.000    0.001    0.000 _tensor.py:676(__len__)\n",
      "       26    0.001    0.000    0.001    0.000 socket.py:480(send)\n",
      "      370    0.001    0.000    0.005    0.000 fromnumeric.py:2367(all)\n",
      "      555    0.001    0.000    0.008    0.000 {built-in method numpy.core._multiarray_umath.implement_array_function}\n",
      "      185    0.001    0.000    0.001    0.000 {method 'numpy' of 'torch._C._TensorBase' objects}\n",
      "      370    0.001    0.000    0.007    0.000 <__array_function__ internals>:2(all)\n",
      "      185    0.001    0.000    0.003    0.000 _tensor.py:728(__array__)\n",
      "      185    0.001    0.000    0.001    0.000 {method 'argmax' of 'numpy.ndarray' objects}\n",
      "      185    0.000    0.000    0.002    0.000 <__array_function__ internals>:2(argmax)\n",
      "      185    0.000    0.000    0.001    0.000 fromnumeric.py:51(_wrapfunc)\n",
      "      185    0.000    0.000    0.001    0.000 fromnumeric.py:1121(argmax)\n",
      "      370    0.000    0.000    0.000    0.000 fromnumeric.py:70(<dictcomp>)\n",
      "        8    0.000    0.000    0.000    0.000 mcts.py:153(match_rewards)\n",
      "        9    0.000    0.000    0.002    0.000 {built-in method builtins.print}\n",
      "       26    0.000    0.000    0.001    0.000 iostream.py:208(schedule)\n",
      "      185    0.000    0.000    0.000    0.000 {built-in method builtins.getattr}\n",
      "       18    0.000    0.000    0.001    0.000 iostream.py:502(write)\n",
      "      370    0.000    0.000    0.000    0.000 fromnumeric.py:2362(_all_dispatcher)\n",
      "      370    0.000    0.000    0.000    0.000 {method 'items' of 'dict' objects}\n",
      "      185    0.000    0.000    0.000    0.000 fromnumeric.py:1117(_argmax_dispatcher)\n",
      "      185    0.000    0.000    0.000    0.000 {method 'dim' of 'torch._C._TensorBase' objects}\n",
      "      370    0.000    0.000    0.000    0.000 {method 'append' of 'list' objects}\n",
      "       26    0.000    0.000    0.000    0.000 threading.py:1113(is_alive)\n",
      "       18    0.000    0.000    0.000    0.000 iostream.py:439(_schedule_flush)\n",
      "        8    0.000    0.000    0.001    0.000 connect_four.py:27(start_state)\n",
      "        1    0.000    0.000   31.293   31.293 {built-in method builtins.exec}\n",
      "       18    0.000    0.000    0.000    0.000 iostream.py:420(_is_master_process)\n",
      "       26    0.000    0.000    0.000    0.000 {method 'acquire' of '_thread.lock' objects}\n",
      "       26    0.000    0.000    0.000    0.000 iostream.py:97(_event_pipe)\n",
      "       26    0.000    0.000    0.000    0.000 threading.py:1059(_wait_for_tstate_lock)\n",
      "        8    0.000    0.000    0.000    0.000 mcts.py:47(__init__)\n",
      "        2    0.000    0.000    0.000    0.000 grad_mode.py:215(__init__)\n",
      "        1    0.000    0.000    0.000    0.000 grad_mode.py:130(__exit__)\n",
      "       18    0.000    0.000    0.000    0.000 {built-in method builtins.len}\n",
      "       26    0.000    0.000    0.000    0.000 threading.py:529(is_set)\n",
      "       18    0.000    0.000    0.000    0.000 {built-in method posix.getpid}\n",
      "        1    0.000    0.000    0.000    0.000 grad_mode.py:121(__init__)\n",
      "       18    0.000    0.000    0.000    0.000 {built-in method builtins.isinstance}\n",
      "       26    0.000    0.000    0.000    0.000 {method 'append' of 'collections.deque' objects}\n",
      "        1    0.000    0.000    0.000    0.000 grad_mode.py:126(__enter__)\n",
      "        3    0.000    0.000    0.000    0.000 {built-in method torch._C.is_grad_enabled}\n",
      "        1    0.000    0.000    0.000    0.000 mcts.py:15(__init__)\n",
      "        1    0.000    0.000    0.000    0.000 {method 'disable' of '_lsprof.Profiler' objects}\n",
      "        2    0.000    0.000    0.000    0.000 {built-in method torch._C._set_grad_enabled}\n",
      "        1    0.000    0.000    0.000    0.000 _jit_internal.py:957(is_scripting)\n",
      "\n",
      "\n"
     ]
    }
   ],
   "source": [
    "import cProfile\n",
    "cProfile.run('mcts.policy_iteration(nnet=nnet, num_iterations=1, num_episodes=8, num_mcts_sims=256)', sort=\"tottime\")"
   ]
  },
  {
   "cell_type": "code",
   "execution_count": 38,
   "id": "6cd56b03",
   "metadata": {},
   "outputs": [
    {
     "name": "stdout",
     "output_type": "stream",
     "text": [
      "\n",
      "Iteration: 0::0,"
     ]
    }
   ],
   "source": [
    "examples = mcts.policy_iteration(nnet=nnet, num_iterations=1, num_episodes=1, num_mcts_sims=128)"
   ]
  },
  {
   "cell_type": "code",
   "execution_count": 4,
   "id": "2d57ced3",
   "metadata": {},
   "outputs": [],
   "source": [
    "test_state = np.zeros([6,7], dtype=np.int32)\n",
    "test_state[5,3] = 1\n",
    "test_state[5,2] = -1\n",
    "test_state[4,3] = 1\n",
    "test_state[3,3] = 1\n",
    "test_state[2,3] = 1\n",
    "test_state[0,0] = 1\n",
    "test_state[1,0] = -1\n",
    "test_state[2,0] = 1\n",
    "test_state[3,0] = -1\n",
    "test_state[4,0] = 1\n",
    "test_state[5,0] = -1\n",
    "test_state_tensor = torch.Tensor(test_state).reshape(6, 7)\n",
    "\n",
    "test = {}\n",
    "test[\"12948731587817346817264812764817623\"] = 10"
   ]
  },
  {
   "cell_type": "code",
   "execution_count": 11,
   "id": "04500b39",
   "metadata": {},
   "outputs": [],
   "source": [
    "N = torch.Tensor([1, 2, 3, 4, 5, 6, 7])\n",
    "Q = torch.Tensor([1, 2, 3, 4, 5, 6, 7])\n",
    "P = torch.Tensor([1, 2, 3, 4, 5, 6, 7])\n",
    "c = 1"
   ]
  },
  {
   "cell_type": "code",
   "execution_count": 24,
   "id": "8d3956a2",
   "metadata": {},
   "outputs": [
    {
     "name": "stdout",
     "output_type": "stream",
     "text": [
      "1\n",
      "2\n",
      "3\n",
      "4\n",
      "5\n",
      "6\n"
     ]
    },
    {
     "data": {
      "text/plain": [
       "6"
      ]
     },
     "execution_count": 24,
     "metadata": {},
     "output_type": "execute_result"
    }
   ],
   "source": [
    "def old():\n",
    "    max_u, best_a = -torch.inf, -1\n",
    "    # for a in self.nc.actions(state=state, rep=rep):\n",
    "    for a in connect_four.get_valid_actions(state=test_state_tensor):\n",
    "        visits = 1 + N[a]\n",
    "        u_explore = (N.sum() + 1).sqrt() / visits\n",
    "        u = Q[a] / visits + c * P[a] * u_explore\n",
    "        if u > max_u:\n",
    "            max_u = u\n",
    "            best_a = a\n",
    "        print(a)\n",
    "    a = best_a\n",
    "    return a\n",
    "old()"
   ]
  },
  {
   "cell_type": "code",
   "execution_count": 30,
   "id": "132cad57",
   "metadata": {},
   "outputs": [
    {
     "data": {
      "text/plain": [
       "6"
      ]
     },
     "execution_count": 30,
     "metadata": {},
     "output_type": "execute_result"
    }
   ],
   "source": [
    "1-test_state_tensor[0,:]\n",
    "\n",
    "visits = 1 + N\n",
    "u_explore = (N.sum() + 1).sqrt() / visits\n",
    "u = 1 + Q / visits + c * P * u_explore\n",
    "u = u * (1 - test_state_tensor[0, :])\n",
    "int(torch.argmax(u))"
   ]
  },
  {
   "cell_type": "code",
   "execution_count": 31,
   "id": "9558fa44",
   "metadata": {},
   "outputs": [
    {
     "data": {
      "text/plain": [
       "tensor([1., 0., 0., 0., 0., 0., 0.])"
      ]
     },
     "execution_count": 31,
     "metadata": {},
     "output_type": "execute_result"
    }
   ],
   "source": [
    "test_state_tensor[0, :]"
   ]
  },
  {
   "cell_type": "code",
   "execution_count": 27,
   "id": "f4d12851",
   "metadata": {},
   "outputs": [
    {
     "data": {
      "text/plain": [
       "tensor([0.0000, 5.2568, 5.7889, 6.1081, 6.3210, 6.4730, 6.5870])"
      ]
     },
     "execution_count": 27,
     "metadata": {},
     "output_type": "execute_result"
    }
   ],
   "source": [
    "u*(1-test_state_tensor[0,:])"
   ]
  },
  {
   "cell_type": "code",
   "execution_count": null,
   "id": "32eb5669",
   "metadata": {},
   "outputs": [],
   "source": []
  },
  {
   "cell_type": "code",
   "execution_count": null,
   "id": "f4d7d876",
   "metadata": {},
   "outputs": [],
   "source": []
  }
 ],
 "metadata": {
  "kernelspec": {
   "display_name": "Python 3 (ipykernel)",
   "language": "python",
   "name": "python3"
  },
  "language_info": {
   "codemirror_mode": {
    "name": "ipython",
    "version": 3
   },
   "file_extension": ".py",
   "mimetype": "text/x-python",
   "name": "python",
   "nbconvert_exporter": "python",
   "pygments_lexer": "ipython3",
   "version": "3.9.7"
  }
 },
 "nbformat": 4,
 "nbformat_minor": 5
}
