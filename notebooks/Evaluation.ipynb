{
 "cells": [
  {
   "cell_type": "code",
   "execution_count": 1,
   "id": "d1b52394",
   "metadata": {},
   "outputs": [],
   "source": [
    "import sys\n",
    "if \"/Users/raymond/code/FinalProject563\" not in sys.path:\n",
    "    sys.path.append(\"/Users/raymond/code/FinalProject563\")\n",
    "import torch\n",
    "import pickle\n",
    "import glob\n",
    "import matplotlib.pyplot as plt\n",
    "import random\n",
    "import numpy as np\n",
    "import pandas\n",
    "import time\n",
    "import os\n",
    "\n",
    "import connect_four\n",
    "import mcts\n",
    "import connect_net\n",
    "import connect_plot\n",
    "import evaluation\n",
    "import utils\n",
    "import runner\n",
    "%matplotlib inline\n",
    "%load_ext autoreload\n",
    "%autoreload 2"
   ]
  },
  {
   "cell_type": "code",
   "execution_count": 2,
   "id": "85578be8",
   "metadata": {},
   "outputs": [
    {
     "name": "stdout",
     "output_type": "stream",
     "text": [
      "ConnectNet(\n",
      "  (layer1): Sequential(\n",
      "    (0): Conv2d(1, 128, kernel_size=(4, 4), stride=(1, 1))\n",
      "    (1): Tanh()\n",
      "  )\n",
      "  (fc): Sequential(\n",
      "    (0): Conv2d(128, 128, kernel_size=(3, 4), stride=(1, 1))\n",
      "    (1): Tanh()\n",
      "    (2): Flatten(start_dim=1, end_dim=-1)\n",
      "    (3): Linear(in_features=128, out_features=128, bias=True)\n",
      "    (4): Tanh()\n",
      "    (5): Linear(in_features=128, out_features=8, bias=True)\n",
      "  )\n",
      ")\n",
      "ConnectNet(\n",
      "  (layer1): Sequential(\n",
      "    (0): Conv2d(1, 128, kernel_size=(4, 4), stride=(1, 1))\n",
      "    (1): Tanh()\n",
      "  )\n",
      "  (fc): Sequential(\n",
      "    (0): Conv2d(128, 128, kernel_size=(3, 4), stride=(1, 1))\n",
      "    (1): Tanh()\n",
      "    (2): Flatten(start_dim=1, end_dim=-1)\n",
      "    (3): Linear(in_features=128, out_features=128, bias=True)\n",
      "    (4): Tanh()\n",
      "    (5): Linear(in_features=128, out_features=8, bias=True)\n",
      "  )\n",
      ")\n",
      "ConnectNet(\n",
      "  (layer1): Sequential(\n",
      "    (0): Conv2d(1, 128, kernel_size=(4, 4), stride=(1, 1))\n",
      "    (1): Tanh()\n",
      "  )\n",
      "  (fc): Sequential(\n",
      "    (0): Conv2d(128, 128, kernel_size=(3, 4), stride=(1, 1))\n",
      "    (1): Tanh()\n",
      "    (2): Flatten(start_dim=1, end_dim=-1)\n",
      "    (3): Linear(in_features=128, out_features=128, bias=True)\n",
      "    (4): Tanh()\n",
      "    (5): Linear(in_features=128, out_features=8, bias=True)\n",
      "  )\n",
      ")\n"
     ]
    }
   ],
   "source": [
    "os.chdir(\"/Users/raymond/code/FinalProject563\")\n",
    "trial = \"test01\"\n",
    "iteration = 5\n",
    "training_folder = utils.get_training_folder(trial=trial, iteration=iteration)\n",
    "training_path = runner.get_model_path(folder=training_folder, iteration=iteration)\n",
    "nnet8 = connect_net.load_model(path=training_path)\n",
    "iteration = 1 \n",
    "training_folder = utils.get_training_folder(trial=trial, iteration=iteration)\n",
    "training_path = runner.get_model_path(folder=training_folder, iteration=iteration)\n",
    "nnet1 = connect_net.load_model(path=training_path)\n",
    "nnetp = connect_net.load_model(path=\"models/pretrain01.model\")"
   ]
  },
  {
   "cell_type": "code",
   "execution_count": 7,
   "id": "6ac41090",
   "metadata": {},
   "outputs": [],
   "source": [
    "num_mcts_sims = 32\n",
    "results = []\n",
    "for i in range(100):\n",
    "    result = evaluation.competition_game(\n",
    "        player1=nnet1, p1_mcts_sims=num_mcts_sims, \n",
    "        player2=nnet8, p2_mcts_sims=num_mcts_sims,\n",
    "    )\n",
    "    results.append(result)"
   ]
  },
  {
   "cell_type": "code",
   "execution_count": 8,
   "id": "c66ae213",
   "metadata": {},
   "outputs": [
    {
     "data": {
      "text/plain": [
       "player2    59\n",
       "player1    33\n",
       "Draw        8\n",
       "Name: Winner, dtype: int64"
      ]
     },
     "execution_count": 8,
     "metadata": {},
     "output_type": "execute_result"
    }
   ],
   "source": [
    "df_results = pandas.DataFrame([(r[0], r[1]) for r in results], columns=[\"Winner\", \"moves\"])\n",
    "df_results[\"Winner\"].value_counts()"
   ]
  },
  {
   "cell_type": "code",
   "execution_count": null,
   "id": "d5e9ee8f",
   "metadata": {},
   "outputs": [],
   "source": []
  },
  {
   "cell_type": "code",
   "execution_count": null,
   "id": "2e1fb7c3",
   "metadata": {},
   "outputs": [],
   "source": []
  },
  {
   "cell_type": "code",
   "execution_count": null,
   "id": "1a5fab67",
   "metadata": {},
   "outputs": [],
   "source": []
  }
 ],
 "metadata": {
  "kernelspec": {
   "display_name": "Python 3 (ipykernel)",
   "language": "python",
   "name": "python3"
  },
  "language_info": {
   "codemirror_mode": {
    "name": "ipython",
    "version": 3
   },
   "file_extension": ".py",
   "mimetype": "text/x-python",
   "name": "python",
   "nbconvert_exporter": "python",
   "pygments_lexer": "ipython3",
   "version": "3.9.7"
  }
 },
 "nbformat": 4,
 "nbformat_minor": 5
}
