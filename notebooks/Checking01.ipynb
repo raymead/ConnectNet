{
 "cells": [
  {
   "cell_type": "code",
   "execution_count": 28,
   "id": "71b2b23e",
   "metadata": {},
   "outputs": [],
   "source": [
    "import sys\n",
    "if \"/Users/raymond/code/FinalProject563\" not in sys.path:\n",
    "    sys.path.append(\"/Users/raymond/code/FinalProject563\")\n",
    "import torch\n",
    "import pickle\n",
    "import glob\n",
    "import matplotlib.pyplot as plt\n",
    "import random\n",
    "\n",
    "import connect_four\n",
    "import mcts\n",
    "import connect_net\n",
    "import connect_plot"
   ]
  },
  {
   "cell_type": "code",
   "execution_count": 4,
   "id": "9435ded1",
   "metadata": {},
   "outputs": [
    {
     "data": {
      "text/plain": [
       "['/Users/raymond/code/FinalProject563/data/trial1/iteration1/examples-1-0-64-128.pickle',\n",
       " '/Users/raymond/code/FinalProject563/data/trial1/iteration1/examples-1-3-64-128.pickle',\n",
       " '/Users/raymond/code/FinalProject563/data/trial1/iteration1/examples-1-2-64-128.pickle',\n",
       " '/Users/raymond/code/FinalProject563/data/trial1/iteration1/examples-1-1-64-128.pickle']"
      ]
     },
     "execution_count": 4,
     "metadata": {},
     "output_type": "execute_result"
    }
   ],
   "source": [
    "files = glob.glob(\"/Users/raymond/code/FinalProject563/data/trial1/iteration1/examples-1-*.pickle\")\n",
    "files"
   ]
  },
  {
   "cell_type": "code",
   "execution_count": 22,
   "id": "2d1a6a95",
   "metadata": {},
   "outputs": [
    {
     "name": "stdout",
     "output_type": "stream",
     "text": [
      "ConnectNet(\n",
      "  (layer1): Sequential(\n",
      "    (0): Conv2d(1, 64, kernel_size=(4, 4), stride=(1, 1))\n",
      "    (1): ReLU()\n",
      "  )\n",
      "  (fc): Sequential(\n",
      "    (0): Conv2d(64, 64, kernel_size=(3, 4), stride=(1, 1))\n",
      "    (1): ReLU()\n",
      "    (2): Flatten(start_dim=1, end_dim=-1)\n",
      "    (3): Linear(in_features=64, out_features=64, bias=True)\n",
      "    (4): ReLU()\n",
      "    (5): Linear(in_features=64, out_features=8, bias=True)\n",
      "  )\n",
      ")\n"
     ]
    }
   ],
   "source": [
    "nnet = connect_net.load_model(\"/Users/raymond/code/FinalProject563/data/trial1/iteration1/model-1.model\")"
   ]
  },
  {
   "cell_type": "code",
   "execution_count": 5,
   "id": "ea29dc84",
   "metadata": {},
   "outputs": [],
   "source": [
    "with open(files[0], \"rb\") as f:\n",
    "    examples = pickle.load(f)"
   ]
  },
  {
   "cell_type": "code",
   "execution_count": 24,
   "id": "25449e7c",
   "metadata": {
    "scrolled": false
   },
   "outputs": [
    {
     "name": "stdout",
     "output_type": "stream",
     "text": [
      "[tensor([[-0., -0., -0., -0., -0., -0., -0.],\n",
      "        [-0., -0., -0., -0., -0., -0., -0.],\n",
      "        [-0., -0., -0., -0., -0., -0., -0.],\n",
      "        [-0., -0., -0., -0., -0., -0., -0.],\n",
      "        [-0., -0., -0., -0., -0., -0., -0.],\n",
      "        [-0., -0., -1., -0., -0., -0., -0.]]), tensor([0.1458, 0.1458, 0.1319, 0.1250, 0.1181, 0.1806, 0.1528]), 5, -1]\n"
     ]
    }
   ],
   "source": [
    "for i, item in enumerate(list(reversed(examples))[1:20]):\n",
    "    print(item)\n",
    "    break"
   ]
  },
  {
   "cell_type": "code",
   "execution_count": 38,
   "id": "9d30703c",
   "metadata": {},
   "outputs": [
    {
     "name": "stdout",
     "output_type": "stream",
     "text": [
      "1263 1010 126 127\n"
     ]
    }
   ],
   "source": [
    "total_num = len(examples)\n",
    "train_num = int(total_num * 0.8)\n",
    "val_num = int(total_num * 0.1)\n",
    "test_num = total_num - train_num - val_num\n",
    "print(total_num, train_num, val_num, test_num)\n",
    "\n",
    "\n",
    "my_vals = list(range(total_num))\n",
    "random.shuffle(my_vals)"
   ]
  },
  {
   "cell_type": "code",
   "execution_count": 40,
   "id": "2c676220",
   "metadata": {},
   "outputs": [],
   "source": [
    "train_subset = [examples[i] for i in my_vals[:100]]\n",
    "val_subset = [examples[i] for i in my_vals[:100]]\n",
    "test_subset = [examples[i] for i in my_vals[:100]]"
   ]
  },
  {
   "cell_type": "code",
   "execution_count": 153,
   "id": "ff5b91ed",
   "metadata": {},
   "outputs": [],
   "source": [
    "optimizer = torch.optim.Adam(nnet.parameters(), lr=0.001)\n",
    "# mcts.train_nnet(nnet=nnet, examples=examples[:100], optimizer=optimizer)"
   ]
  },
  {
   "cell_type": "code",
   "execution_count": null,
   "id": "f717d9c6",
   "metadata": {},
   "outputs": [],
   "source": [
    "def loss_fn(annet, samples):\n",
    "    loss_tmp = torch.zeros(1)\n",
    "    for e in samples:\n",
    "        v, proba = annet(e[0].view(1, 1, 6, 7))\n",
    "        loss_tmp += torch.square(v - e[3]) - torch.dot(e[1], torch.log(proba.squeeze()))\n",
    "    return loss_tmp\n",
    "\n",
    "# optimizer.zero_grad()\n",
    "# loss.backward()\n",
    "# optimizer.step()"
   ]
  },
  {
   "cell_type": "code",
   "execution_count": 155,
   "id": "5cfa7fa4",
   "metadata": {},
   "outputs": [
    {
     "name": "stdout",
     "output_type": "stream",
     "text": [
      "182.52589416503906\n",
      "186.04083251953125\n",
      "False\n"
     ]
    }
   ],
   "source": [
    "begin_val_loss = loss_fn(nnet, val_subset).item()\n",
    "print(begin_val_loss)\n",
    "\n",
    "loss = loss_fn(nnet, train_subset)\n",
    "optimizer.zero_grad()\n",
    "loss.backward()\n",
    "optimizer.step()\n",
    "\n",
    "end_val_loss = loss_fn(nnet, val_subset).item()\n",
    "print(end_val_loss)\n",
    "print(end_val_loss < begin_val_loss)"
   ]
  },
  {
   "cell_type": "code",
   "execution_count": 43,
   "id": "1300b742",
   "metadata": {},
   "outputs": [],
   "source": []
  },
  {
   "cell_type": "code",
   "execution_count": null,
   "id": "211b827b",
   "metadata": {},
   "outputs": [],
   "source": []
  }
 ],
 "metadata": {
  "kernelspec": {
   "display_name": "Python 3 (ipykernel)",
   "language": "python",
   "name": "python3"
  },
  "language_info": {
   "codemirror_mode": {
    "name": "ipython",
    "version": 3
   },
   "file_extension": ".py",
   "mimetype": "text/x-python",
   "name": "python",
   "nbconvert_exporter": "python",
   "pygments_lexer": "ipython3",
   "version": "3.9.7"
  }
 },
 "nbformat": 4,
 "nbformat_minor": 5
}
