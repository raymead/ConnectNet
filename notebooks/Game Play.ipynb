{
 "cells": [
  {
   "cell_type": "code",
   "execution_count": 1,
   "id": "cc3632d9",
   "metadata": {},
   "outputs": [],
   "source": [
    "import sys\n",
    "if \"/Users/raymond/code/FinalProject563\" not in sys.path:\n",
    "    sys.path.append(\"/Users/raymond/code/FinalProject563\")\n",
    "import torch\n",
    "import pickle\n",
    "import glob\n",
    "import matplotlib.pyplot as plt\n",
    "import random\n",
    "import numpy as np\n",
    "import pandas\n",
    "import time\n",
    "import os\n",
    "\n",
    "import connect_four\n",
    "import mcts\n",
    "import connect_net\n",
    "import connect_plot\n",
    "import evaluation\n",
    "import utils\n",
    "import runner\n",
    "%matplotlib inline\n",
    "%load_ext autoreload\n",
    "%autoreload 2\n",
    "os.chdir(\"/Users/raymond/code/FinalProject563\")"
   ]
  },
  {
   "cell_type": "code",
   "execution_count": 80,
   "id": "5ed1379f",
   "metadata": {},
   "outputs": [],
   "source": [
    "path = utils.get_training_model_path(trial=\"conv501\", iteration=70)\n",
    "nnet = connect_net.load_model(path=path, klass=connect_net.ConnectNet2, log=False)"
   ]
  },
  {
   "cell_type": "code",
   "execution_count": 77,
   "id": "bffacc2d",
   "metadata": {},
   "outputs": [],
   "source": [
    "num_mcts_sims = 128\n",
    "random_move = 0\n",
    "\n",
    "gc = connect_four.GameCache()\n",
    "p1_nc = connect_net.NetworkCache(nnet=nnet)\n",
    "p1_mcts = mcts.NetworkMCTS(c=1, game_cache=gc, network_cache=p1_nc)\n",
    "\n",
    "# offset = random.randint(0, 1)\n",
    "offset = 0\n",
    "move = 1\n",
    "state = connect_four.start_state()\n",
    "rep = connect_four.to_rep(state=state)"
   ]
  },
  {
   "cell_type": "code",
   "execution_count": 78,
   "id": "45a33bab",
   "metadata": {},
   "outputs": [
    {
     "data": {
      "text/plain": [
       "<Figure size 432x288 with 0 Axes>"
      ]
     },
     "metadata": {},
     "output_type": "display_data"
    },
    {
     "data": {
      "image/png": "[encoded data removed]",
      "text/plain": [
       "<Figure size 432x288 with 1 Axes>"
      ]
     },
     "metadata": {
      "needs_background": "light"
     },
     "output_type": "display_data"
    }
   ],
   "source": [
    "connect_plot.print_board((-1)**(move + offset)*state)"
   ]
  },
  {
   "cell_type": "code",
   "execution_count": 76,
   "id": "dc81ab6e",
   "metadata": {},
   "outputs": [
    {
     "name": "stdout",
     "output_type": "stream",
     "text": [
      "Enter a move3\n",
      "Made move 3\n"
     ]
    }
   ],
   "source": [
    "if (move + offset) % 2 == 1:\n",
    "    p1_mcts.simulate_moves(num_mcts_sims=num_mcts_sims, state=state, rep=rep)\n",
    "    \n",
    "    print(p1_mcts.get_best_eval(rep=rep))\n",
    "    if move <= random_move * 2:\n",
    "        a, _ = p1_mcts.get_random_action(rep=rep)\n",
    "    else:\n",
    "        a, _ = p1_mcts.get_best_action(rep=rep)\n",
    "else:\n",
    "    a = int(input(\"Enter a move\"))\n",
    "\n",
    "print(f\"Made move {a}\")\n",
    "next_state, next_rep = gc.next_state_rep(state=state, rep=rep, action=a)\n",
    "ge = gc.game_ended(state=next_state, rep=next_rep)\n",
    "\n",
    "if ge is not None:\n",
    "    print(\"Game Ended\")\n",
    "    winner = -ge\n",
    "\n",
    "move += 1\n",
    "state, rep = next_state, next_rep"
   ]
  },
  {
   "cell_type": "code",
   "execution_count": null,
   "id": "f22beb68",
   "metadata": {},
   "outputs": [],
   "source": []
  }
 ],
 "metadata": {
  "kernelspec": {
   "display_name": "Python 3 (ipykernel)",
   "language": "python",
   "name": "python3"
  },
  "language_info": {
   "codemirror_mode": {
    "name": "ipython",
    "version": 3
   },
   "file_extension": ".py",
   "mimetype": "text/x-python",
   "name": "python",
   "nbconvert_exporter": "python",
   "pygments_lexer": "ipython3",
   "version": "3.9.7"
  }
 },
 "nbformat": 4,
 "nbformat_minor": 5
}
