{
 "cells": [
  {
   "cell_type": "code",
   "execution_count": 1,
   "id": "ec9aa303",
   "metadata": {},
   "outputs": [],
   "source": [
    "import sys\n",
    "if \"/Users/raymond/code/FinalProject563\" not in sys.path:\n",
    "    sys.path.append(\"/Users/raymond/code/FinalProject563\")\n",
    "\n",
    "import time\n",
    "import torch\n",
    "import random\n",
    "import numpy as np\n",
    "import pandas\n",
    "\n",
    "import connect_four\n",
    "import mcts\n",
    "import connect_net\n",
    "import connect_plot"
   ]
  },
  {
   "cell_type": "code",
   "execution_count": 2,
   "id": "71b2149e",
   "metadata": {},
   "outputs": [],
   "source": [
    "boards = np.load(\"/Users/raymond/code/FinalProject563/data/move8_boards.npy\")\n",
    "winners = np.load(\"/Users/raymond/code/FinalProject563/data/move8_winner.npy\")"
   ]
  },
  {
   "cell_type": "code",
   "execution_count": 3,
   "id": "ec8c4b9f",
   "metadata": {},
   "outputs": [
    {
     "name": "stdout",
     "output_type": "stream",
     "text": [
      "67557 54045 6755 6757\n"
     ]
    }
   ],
   "source": [
    "total_num = len(boards)\n",
    "train_num = int(total_num * 0.8)\n",
    "val_num = int(total_num * 0.1)\n",
    "test_num = total_num - train_num - val_num\n",
    "print(total_num, train_num, val_num, test_num)\n",
    "\n",
    "shuffled_indexes = list(range(total_num))\n",
    "random.shuffle(shuffled_indexes)"
   ]
  },
  {
   "cell_type": "code",
   "execution_count": 4,
   "id": "e88e852a",
   "metadata": {},
   "outputs": [
    {
     "name": "stdout",
     "output_type": "stream",
     "text": [
      "54045 6755 6757\n"
     ]
    }
   ],
   "source": [
    "train_vals = torch.Tensor(boards[shuffled_indexes[:train_num]]).unsqueeze(1)\n",
    "valid_vals = torch.Tensor(boards[shuffled_indexes[train_num:train_num+val_num]]).unsqueeze(1)\n",
    "test_vals = torch.Tensor(boards[shuffled_indexes[train_num+val_num:]]).unsqueeze(1)\n",
    "\n",
    "train_targ = torch.Tensor(winners[shuffled_indexes[:train_num]])\n",
    "valid_targ = torch.Tensor(winners[shuffled_indexes[train_num:train_num+val_num]])\n",
    "test_targ = torch.Tensor(winners[shuffled_indexes[train_num+val_num:]])\n",
    "print(len(train_vals), len(valid_vals), len(test_vals))"
   ]
  },
  {
   "cell_type": "code",
   "execution_count": 11,
   "id": "5689bbc6",
   "metadata": {},
   "outputs": [],
   "source": [
    "nnet = connect_net.ConnectNet()\n",
    "optimizer = torch.optim.Adam(nnet.parameters(), lr=0.001)\n",
    "loss_fn = torch.nn.MSELoss(reduction=\"sum\")\n",
    "l2_lambda = 1"
   ]
  },
  {
   "cell_type": "code",
   "execution_count": 9,
   "id": "79670adf",
   "metadata": {},
   "outputs": [],
   "source": [
    "losses_train = []\n",
    "losses_validation = []"
   ]
  },
  {
   "cell_type": "code",
   "execution_count": 12,
   "id": "5b9ca512",
   "metadata": {},
   "outputs": [
    {
     "name": "stdout",
     "output_type": "stream",
     "text": [
      "EPOCH::0  LOSS::4957.5454  TIME::5.2060\n",
      "EPOCH::10  LOSS::3336.3789  TIME::6.1440\n",
      "EPOCH::20  LOSS::3199.1062  TIME::7.0535\n",
      "EPOCH::30  LOSS::3098.3508  TIME::6.6982\n",
      "EPOCH::40  LOSS::3091.2559  TIME::7.2018\n",
      "EPOCH::50  LOSS::3058.0449  TIME::6.0844\n",
      "EPOCH::60  LOSS::3011.8040  TIME::5.5465\n",
      "EPOCH::70  LOSS::2966.3132  TIME::5.2714\n",
      "EPOCH::80  LOSS::2907.4143  TIME::5.1027\n",
      "EPOCH::90  LOSS::2840.1025  TIME::5.2853\n",
      "EPOCH::100  LOSS::2752.5571  TIME::5.2451\n",
      "EPOCH::110  LOSS::2628.9048  TIME::5.5380\n",
      "EPOCH::120  LOSS::2465.1721  TIME::6.2087\n",
      "EPOCH::130  LOSS::2266.9109  TIME::4.9250\n",
      "EPOCH::140  LOSS::2171.3687  TIME::5.0793\n",
      "EPOCH::150  LOSS::2057.5718  TIME::5.0036\n",
      "EPOCH::160  LOSS::1970.1316  TIME::6.2050\n",
      "EPOCH::170  LOSS::1882.8688  TIME::5.0485\n",
      "EPOCH::180  LOSS::1806.1038  TIME::6.3187\n",
      "EPOCH::190  LOSS::1746.1414  TIME::5.5144\n",
      "EPOCH::200  LOSS::1721.7915  TIME::5.6605\n",
      "EPOCH::210  LOSS::1641.9136  TIME::5.2964\n",
      "EPOCH::220  LOSS::1604.9711  TIME::6.1354\n",
      "EPOCH::230  LOSS::1574.4945  TIME::6.9536\n",
      "EPOCH::240  LOSS::1546.2654  TIME::6.2061\n"
     ]
    }
   ],
   "source": [
    "for i in range(250):\n",
    "    start_time = time.time()\n",
    "    train_v, proba = nnet(train_vals)\n",
    "    if torch.isnan(proba).any():\n",
    "        print(\"Found nan\")\n",
    "        break\n",
    "    reg_loss = l2_lambda * sum(p.square().sum() for p in nnet.parameters())\n",
    "    \n",
    "    train_loss = loss_fn(train_v, train_targ)\n",
    "    train_loss = train_loss + reg_loss\n",
    "    optimizer.zero_grad()\n",
    "    train_loss.backward()\n",
    "    optimizer.step()\n",
    "    losses_train.append(train_loss.item())\n",
    "\n",
    "    valid_v, _ = nnet(valid_vals)\n",
    "    val_loss = loss_fn(valid_v, valid_targ).item()\n",
    "    losses_validation.append(val_loss)\n",
    "    if i % 10 == 0:\n",
    "        print(f\"EPOCH::{i}  LOSS::{val_loss:.4f}  TIME::{time.time() - start_time:.4f}\")"
   ]
  },
  {
   "cell_type": "code",
   "execution_count": 13,
   "id": "377d67e5",
   "metadata": {},
   "outputs": [
    {
     "data": {
      "text/plain": [
       "<AxesSubplot:>"
      ]
     },
     "execution_count": 13,
     "metadata": {},
     "output_type": "execute_result"
    },
    {
     "data": {
      "image/png": "[encoded data removed]",
      "text/plain": [
       "<Figure size 720x288 with 1 Axes>"
      ]
     },
     "metadata": {
      "needs_background": "light"
     },
     "output_type": "display_data"
    }
   ],
   "source": [
    "pandas.Series(losses_validation).plot(figsize=(10, 4))"
   ]
  },
  {
   "cell_type": "code",
   "execution_count": 14,
   "id": "e94f48d3",
   "metadata": {},
   "outputs": [],
   "source": [
    "connect_net.save_model(nnet, \"../models/pretrain01.model\")"
   ]
  },
  {
   "cell_type": "code",
   "execution_count": null,
   "id": "5ecd4539",
   "metadata": {},
   "outputs": [],
   "source": []
  }
 ],
 "metadata": {
  "kernelspec": {
   "display_name": "Python 3 (ipykernel)",
   "language": "python",
   "name": "python3"
  },
  "language_info": {
   "codemirror_mode": {
    "name": "ipython",
    "version": 3
   },
   "file_extension": ".py",
   "mimetype": "text/x-python",
   "name": "python",
   "nbconvert_exporter": "python",
   "pygments_lexer": "ipython3",
   "version": "3.9.7"
  }
 },
 "nbformat": 4,
 "nbformat_minor": 5
}
