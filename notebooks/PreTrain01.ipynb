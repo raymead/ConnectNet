{
 "cells": [
  {
   "cell_type": "code",
   "execution_count": 1,
   "id": "ec9aa303",
   "metadata": {},
   "outputs": [],
   "source": [
    "import sys\n",
    "if \"/Users/raymond/code/FinalProject563\" not in sys.path:\n",
    "    sys.path.append(\"/Users/raymond/code/FinalProject563\")\n",
    "\n",
    "import time\n",
    "import torch\n",
    "import random\n",
    "import numpy as np\n",
    "import pandas\n",
    "\n",
    "import connect_four\n",
    "import mcts\n",
    "import connect_net\n",
    "import connect_plot"
   ]
  },
  {
   "cell_type": "code",
   "execution_count": 2,
   "id": "71b2149e",
   "metadata": {},
   "outputs": [],
   "source": [
    "boards = np.load(\"/Users/raymond/code/FinalProject563/data/move8_boards.npy\")\n",
    "winners = np.load(\"/Users/raymond/code/FinalProject563/data/move8_winner.npy\")"
   ]
  },
  {
   "cell_type": "code",
   "execution_count": 3,
   "id": "ec8c4b9f",
   "metadata": {},
   "outputs": [
    {
     "name": "stdout",
     "output_type": "stream",
     "text": [
      "67557 54045 6755 6757\n"
     ]
    }
   ],
   "source": [
    "total_num = len(boards)\n",
    "train_num = int(total_num * 0.8)\n",
    "val_num = int(total_num * 0.1)\n",
    "test_num = total_num - train_num - val_num\n",
    "print(total_num, train_num, val_num, test_num)\n",
    "\n",
    "shuffled_indexes = list(range(total_num))\n",
    "random.shuffle(shuffled_indexes)"
   ]
  },
  {
   "cell_type": "code",
   "execution_count": 4,
   "id": "e88e852a",
   "metadata": {},
   "outputs": [
    {
     "name": "stdout",
     "output_type": "stream",
     "text": [
      "54045 6755 6757\n"
     ]
    }
   ],
   "source": [
    "train_vals = torch.Tensor(boards[shuffled_indexes[:train_num]]).unsqueeze(1)\n",
    "valid_vals = torch.Tensor(boards[shuffled_indexes[train_num:train_num+val_num]]).unsqueeze(1)\n",
    "test_vals = torch.Tensor(boards[shuffled_indexes[train_num+val_num:]]).unsqueeze(1)\n",
    "\n",
    "train_targ = torch.Tensor(winners[shuffled_indexes[:train_num]])\n",
    "valid_targ = torch.Tensor(winners[shuffled_indexes[train_num:train_num+val_num]])\n",
    "test_targ = torch.Tensor(winners[shuffled_indexes[train_num+val_num:]])\n",
    "print(len(train_vals), len(valid_vals), len(test_vals))"
   ]
  },
  {
   "cell_type": "code",
   "execution_count": 5,
   "id": "5689bbc6",
   "metadata": {},
   "outputs": [],
   "source": [
    "nnet = connect_net.ConnectNet()\n",
    "optimizer = torch.optim.Adam(nnet.parameters(), lr=0.001)\n",
    "loss_fn = torch.nn.MSELoss(reduction=\"sum\")\n",
    "l2_lambda = 1"
   ]
  },
  {
   "cell_type": "code",
   "execution_count": 6,
   "id": "79670adf",
   "metadata": {},
   "outputs": [],
   "source": [
    "losses_train = []\n",
    "losses_validation = []"
   ]
  },
  {
   "cell_type": "code",
   "execution_count": 7,
   "id": "5b9ca512",
   "metadata": {},
   "outputs": [
    {
     "name": "stdout",
     "output_type": "stream",
     "text": [
      "EPOCH::0  LOSS::5308.5020  TIME::3.4890\n",
      "EPOCH::10  LOSS::4328.3184  TIME::3.3811\n",
      "EPOCH::20  LOSS::3374.7939  TIME::3.4249\n",
      "EPOCH::30  LOSS::3021.4893  TIME::3.4552\n",
      "EPOCH::40  LOSS::2949.6306  TIME::3.4964\n",
      "EPOCH::50  LOSS::2845.3955  TIME::3.5470\n",
      "EPOCH::60  LOSS::2777.8081  TIME::3.5185\n",
      "EPOCH::70  LOSS::2719.4597  TIME::3.4541\n",
      "EPOCH::80  LOSS::2651.2227  TIME::3.5890\n",
      "EPOCH::90  LOSS::2573.5183  TIME::3.5304\n",
      "EPOCH::100  LOSS::2487.5679  TIME::3.4522\n",
      "EPOCH::110  LOSS::2406.4785  TIME::3.4461\n",
      "EPOCH::120  LOSS::2358.9465  TIME::3.4400\n",
      "EPOCH::130  LOSS::2278.1689  TIME::3.4463\n",
      "EPOCH::140  LOSS::2215.6758  TIME::3.5121\n",
      "EPOCH::150  LOSS::2158.7795  TIME::3.4316\n",
      "EPOCH::160  LOSS::2099.5566  TIME::3.4861\n",
      "EPOCH::170  LOSS::2052.5083  TIME::3.4769\n",
      "EPOCH::180  LOSS::2029.2539  TIME::3.4398\n",
      "EPOCH::190  LOSS::1971.3781  TIME::3.4548\n",
      "EPOCH::200  LOSS::1937.9115  TIME::3.4821\n",
      "EPOCH::210  LOSS::1920.6088  TIME::3.5097\n",
      "EPOCH::220  LOSS::1878.0483  TIME::3.5086\n",
      "EPOCH::230  LOSS::2041.5765  TIME::3.4421\n",
      "EPOCH::240  LOSS::1889.2943  TIME::3.4325\n",
      "EPOCH::250  LOSS::1856.2607  TIME::3.4359\n",
      "EPOCH::260  LOSS::1810.7432  TIME::3.4580\n",
      "EPOCH::270  LOSS::1799.8663  TIME::3.4472\n",
      "EPOCH::280  LOSS::1781.5298  TIME::3.5044\n",
      "EPOCH::290  LOSS::1764.9186  TIME::3.4482\n",
      "EPOCH::300  LOSS::1752.2700  TIME::3.7735\n",
      "EPOCH::310  LOSS::1741.1216  TIME::3.5048\n",
      "EPOCH::320  LOSS::1748.7284  TIME::3.4418\n",
      "EPOCH::330  LOSS::1724.5171  TIME::3.4237\n",
      "EPOCH::340  LOSS::1740.8099  TIME::3.4543\n",
      "EPOCH::350  LOSS::1706.1475  TIME::3.4298\n",
      "EPOCH::360  LOSS::1700.1554  TIME::3.5652\n",
      "EPOCH::370  LOSS::1695.4530  TIME::3.4571\n",
      "EPOCH::380  LOSS::1690.4445  TIME::3.4334\n",
      "EPOCH::390  LOSS::1749.7142  TIME::3.5333\n"
     ]
    }
   ],
   "source": [
    "for i in range(400):\n",
    "    start_time = time.time()\n",
    "    train_v, proba = nnet(train_vals)\n",
    "    if torch.isnan(proba).any():\n",
    "        print(\"Found nan\")\n",
    "        break\n",
    "    reg_loss = l2_lambda * sum(p.square().sum() for p in nnet.parameters())\n",
    "    \n",
    "    train_loss = loss_fn(train_v, train_targ)\n",
    "    train_loss = train_loss + reg_loss\n",
    "    optimizer.zero_grad()\n",
    "    train_loss.backward()\n",
    "    optimizer.step()\n",
    "    losses_train.append(train_loss.item())\n",
    "\n",
    "    valid_v, _ = nnet(valid_vals)\n",
    "    val_loss = loss_fn(valid_v, valid_targ).item()\n",
    "    losses_validation.append(val_loss)\n",
    "    if i % 10 == 0:\n",
    "        print(f\"EPOCH::{i}  LOSS::{val_loss:.4f}  TIME::{time.time() - start_time:.4f}\")"
   ]
  },
  {
   "cell_type": "code",
   "execution_count": 8,
   "id": "377d67e5",
   "metadata": {},
   "outputs": [
    {
     "data": {
      "text/plain": [
       "<AxesSubplot:>"
      ]
     },
     "execution_count": 8,
     "metadata": {},
     "output_type": "execute_result"
    },
    {
     "data": {
      "image/png": "[encoded data removed]",
      "text/plain": [
       "<Figure size 720x288 with 1 Axes>"
      ]
     },
     "metadata": {
      "needs_background": "light"
     },
     "output_type": "display_data"
    }
   ],
   "source": [
    "pandas.Series(losses_validation).plot(figsize=(10, 4))"
   ]
  },
  {
   "cell_type": "code",
   "execution_count": 9,
   "id": "e94f48d3",
   "metadata": {},
   "outputs": [],
   "source": [
    "connect_net.save_model(nnet, \"../models/pretrain01.model\")"
   ]
  },
  {
   "cell_type": "code",
   "execution_count": null,
   "id": "5ecd4539",
   "metadata": {},
   "outputs": [],
   "source": []
  }
 ],
 "metadata": {
  "kernelspec": {
   "display_name": "Python 3 (ipykernel)",
   "language": "python",
   "name": "python3"
  },
  "language_info": {
   "codemirror_mode": {
    "name": "ipython",
    "version": 3
   },
   "file_extension": ".py",
   "mimetype": "text/x-python",
   "name": "python",
   "nbconvert_exporter": "python",
   "pygments_lexer": "ipython3",
   "version": "3.9.7"
  }
 },
 "nbformat": 4,
 "nbformat_minor": 5
}
