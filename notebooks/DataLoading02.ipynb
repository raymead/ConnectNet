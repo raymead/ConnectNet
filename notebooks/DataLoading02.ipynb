{
 "cells": [
  {
   "cell_type": "code",
   "execution_count": 70,
   "id": "d2e7daa3",
   "metadata": {},
   "outputs": [],
   "source": [
    "import pandas\n",
    "import numpy as np\n",
    "import matplotlib.pyplot as plt\n",
    "import torch\n",
    "from pprint import pprint\n",
    "\n",
    "import connect_plot\n",
    "import connect_four"
   ]
  },
  {
   "cell_type": "code",
   "execution_count": 186,
   "id": "e878db93",
   "metadata": {},
   "outputs": [],
   "source": [
    "pairs = connect_four.get_pairs()\n",
    "p0 = [p[0] for p in pairs]\n",
    "p1 = [p[1] for p in pairs]"
   ]
  },
  {
   "cell_type": "code",
   "execution_count": 67,
   "id": "43cd083e",
   "metadata": {},
   "outputs": [
    {
     "name": "stdout",
     "output_type": "stream",
     "text": [
      "67557\n"
     ]
    }
   ],
   "source": [
    "df_games1 = pandas.read_csv(\"data/connect-4.data\", header=None)\n",
    "print(len(df_games1))\n",
    "cols = [f\"a{i}\" for i in range(1, 7)] \\\n",
    "    + [f\"b{i}\" for i in range(1, 7)] \\\n",
    "    + [f\"c{i}\" for i in range(1, 7)] \\\n",
    "    + [f\"d{i}\" for i in range(1, 7)] \\\n",
    "    + [f\"e{i}\" for i in range(1, 7)] \\\n",
    "    + [f\"f{i}\" for i in range(1, 7)] \\\n",
    "    + [f\"g{i}\" for i in range(1, 7)]\n",
    "df_games1 = df_games1.rename(columns={i: c for i, c in enumerate(cols)})\n",
    "df_games1 = df_games1.rename(columns={42: \"result\"})\n",
    "for c in cols:\n",
    "    df_games1[c] = df_games1[c].map({\"b\": 0, \"x\": 1, \"o\": -1})\n",
    "df_games1[\"result\"] = df_games1[\"result\"].map({\"win\": 1, \"draw\": 0, \"loss\": -1})\n",
    "\n",
    "vals_x1 = np.flip(np.swapaxes(np.reshape(df_games1.iloc[:,:42].values, (67557, 7, 6)), 1, 2), axis=1).astype(np.float64)\n",
    "vals_y1 = df_games1[\"result\"].values\n",
    "# df_games1.head(3)"
   ]
  },
  {
   "cell_type": "code",
   "execution_count": 279,
   "id": "5522b6c4",
   "metadata": {},
   "outputs": [],
   "source": [
    "np.save(\"data/move8_boards\", vals_x1)\n",
    "np.save(\"data/move8_winner\", vals_y1)"
   ]
  },
  {
   "cell_type": "code",
   "execution_count": 244,
   "id": "8285b0b2",
   "metadata": {},
   "outputs": [
    {
     "name": "stdout",
     "output_type": "stream",
     "text": [
      "376619\n"
     ]
    }
   ],
   "source": [
    "df_games2 = pandas.read_csv(\"data/c4_game_database.csv\")\n",
    "print(f\"Initial dataset::{len(df_games2)}\")\n",
    "df_games2 = df_games2[~df_games2[\"winner\"].isnull()]\n",
    "print(f\"Remove nulls::{len(df_games2)}\")\n",
    "vals_x2 = np.reshape(df_games2.iloc[:,:42].values, (len(df_games2), 6, 7))\n",
    "vals_y2 = df_games2[\"winner\"].values"
   ]
  },
  {
   "cell_type": "code",
   "execution_count": 245,
   "id": "25e73bd4",
   "metadata": {},
   "outputs": [
    {
     "name": "stdout",
     "output_type": "stream",
     "text": [
      "False\n",
      "False\n",
      "(362122, 6, 7)\n",
      "362122 359482\n",
      "359482\n",
      "(359482, 6, 7)\n"
     ]
    }
   ],
   "source": [
    "mod_boards = vals_x2 * np.reshape(vals_y2, (len(df_games2), 1, 1))\n",
    "print(np.isnan(mod_boards).any())\n",
    "not_zero = np.where(vals_y2 != 0)[0]\n",
    "mod_boards = mod_boards[not_zero]\n",
    "print(np.isnan(mod_boards).any())\n",
    "# mod_indexes = vals_y2[not_zero]\n",
    "print(mod_boards.shape)\n",
    "\n",
    "vals = []\n",
    "for val in np.reshape(np.int64(mod_boards + 1), (mod_boards.shape[0], 42)).astype(str):\n",
    "    vals.append(''.join(val))\n",
    "print(len(vals), len(set(vals)))\n",
    "\n",
    "unique_boards = pandas.Series(vals).drop_duplicates().index.tolist()\n",
    "print(len(unique_boards))\n",
    "print(mod_boards[unique_boards].shape)\n",
    "# print(mod_indexes[unique_boards].shape)"
   ]
  },
  {
   "cell_type": "code",
   "execution_count": 259,
   "id": "ce69a981",
   "metadata": {},
   "outputs": [
    {
     "name": "stdout",
     "output_type": "stream",
     "text": [
      "(359482, 6, 7)\n",
      "359482\n"
     ]
    }
   ],
   "source": [
    "win_boards = mod_boards[unique_boards]\n",
    "print(win_boards.shape)\n",
    "\n",
    "win_patterns = win_boards[:,p0,p1]\n",
    "win_patterns_sum = np.sum(win_patterns, axis=2)\n",
    "\n",
    "all_new_win_coords = {}\n",
    "for board, win_pair in zip(*np.where(win_patterns_sum == 4)):\n",
    "    win_coords = {(a, b) for a, b in zip(p0[win_pair], p1[win_pair])}\n",
    "    new_coords = {(a, b) for a, b in zip(np.int32(6 - np.abs(win_boards[board]).sum(axis=0)), range(7))}\n",
    "    new_win_coords = win_coords & new_coords\n",
    "    if board in all_new_win_coords:\n",
    "        all_new_win_coords[board] = all_new_win_coords[board] | new_win_coords\n",
    "    else:\n",
    "        all_new_win_coords[board] = new_win_coords\n",
    "print(len(all_new_win_coords))"
   ]
  },
  {
   "cell_type": "code",
   "execution_count": 260,
   "id": "e62de53a",
   "metadata": {},
   "outputs": [],
   "source": [
    "final_boards = []\n",
    "final_coords = []\n",
    "for board, lose_pairs in all_new_win_coords.items():\n",
    "    for lpair in lose_pairs:\n",
    "        board_data = win_boards[board].copy()\n",
    "        board_data[lpair[0],lpair[1]] = 0\n",
    "        final_boards.append(board_data)\n",
    "        final_coords.append(lpair)"
   ]
  },
  {
   "cell_type": "code",
   "execution_count": 274,
   "id": "ef7cb940",
   "metadata": {},
   "outputs": [
    {
     "name": "stdout",
     "output_type": "stream",
     "text": [
      "658973\n"
     ]
    }
   ],
   "source": [
    "print(len(final_boards))\n",
    "np.save(\"data/finalmove_boards\", np.stack(final_boards))\n",
    "np.save(\"data/finalmove_moves\", np.stack(final_coords))"
   ]
  }
 ],
 "metadata": {
  "kernelspec": {
   "display_name": "Python 3 (ipykernel)",
   "language": "python",
   "name": "python3"
  },
  "language_info": {
   "codemirror_mode": {
    "name": "ipython",
    "version": 3
   },
   "file_extension": ".py",
   "mimetype": "text/x-python",
   "name": "python",
   "nbconvert_exporter": "python",
   "pygments_lexer": "ipython3",
   "version": "3.9.7"
  }
 },
 "nbformat": 4,
 "nbformat_minor": 5
}
