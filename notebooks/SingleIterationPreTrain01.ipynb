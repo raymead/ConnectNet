{
 "cells": [
  {
   "cell_type": "code",
   "execution_count": 2,
   "id": "5b0274ee",
   "metadata": {},
   "outputs": [],
   "source": [
    "import sys\n",
    "if \"/Users/raymond/code/FinalProject563\" not in sys.path:\n",
    "    sys.path.append(\"/Users/raymond/code/FinalProject563\")\n",
    "\n",
    "import time\n",
    "import torch\n",
    "import random\n",
    "import numpy as np\n",
    "import pandas\n",
    "import glob\n",
    "import matplotlib.pyplot as plt\n",
    "import pickle\n",
    "\n",
    "import connect_four\n",
    "import mcts\n",
    "import connect_net\n",
    "import connect_plot"
   ]
  },
  {
   "cell_type": "code",
   "execution_count": 3,
   "id": "73c352e7",
   "metadata": {},
   "outputs": [
    {
     "data": {
      "text/plain": [
       "['/Users/raymond/code/FinalProject563/data/trialpretrain01/iteration3/examples-3-0-256-256-4.pickle',\n",
       " '/Users/raymond/code/FinalProject563/data/trialpretrain01/iteration3/examples-3-2-256-256-9.pickle',\n",
       " '/Users/raymond/code/FinalProject563/data/trialpretrain01/iteration3/examples-3-3-256-256-11.pickle',\n",
       " '/Users/raymond/code/FinalProject563/data/trialpretrain01/iteration3/examples-3-0-256-256-8.pickle',\n",
       " '/Users/raymond/code/FinalProject563/data/trialpretrain01/iteration3/examples-3-2-256-256-5.pickle',\n",
       " '/Users/raymond/code/FinalProject563/data/trialpretrain01/iteration3/examples-3-4-256-256-6.pickle',\n",
       " '/Users/raymond/code/FinalProject563/data/trialpretrain01/iteration3/examples-3-0-256-256-15.pickle',\n",
       " '/Users/raymond/code/FinalProject563/data/trialpretrain01/iteration3/examples-3-3-256-256-3.pickle',\n",
       " '/Users/raymond/code/FinalProject563/data/trialpretrain01/iteration3/examples-3-1-256-256-2.pickle',\n",
       " '/Users/raymond/code/FinalProject563/data/trialpretrain01/iteration3/examples-3-2-256-256-13.pickle',\n",
       " '/Users/raymond/code/FinalProject563/data/trialpretrain01/iteration3/examples-3-5-256-256-0.pickle',\n",
       " '/Users/raymond/code/FinalProject563/data/trialpretrain01/iteration3/examples-3-5-256-256-15.pickle',\n",
       " '/Users/raymond/code/FinalProject563/data/trialpretrain01/iteration3/examples-3-2-256-256-11.pickle',\n",
       " '/Users/raymond/code/FinalProject563/data/trialpretrain01/iteration3/examples-3-1-256-256-0.pickle',\n",
       " '/Users/raymond/code/FinalProject563/data/trialpretrain01/iteration3/examples-3-3-256-256-1.pickle',\n",
       " '/Users/raymond/code/FinalProject563/data/trialpretrain01/iteration3/examples-3-1-256-256-15.pickle',\n",
       " '/Users/raymond/code/FinalProject563/data/trialpretrain01/iteration3/examples-3-5-256-256-2.pickle',\n",
       " '/Users/raymond/code/FinalProject563/data/trialpretrain01/iteration3/examples-3-2-256-256-7.pickle',\n",
       " '/Users/raymond/code/FinalProject563/data/trialpretrain01/iteration3/examples-3-0-256-256-6.pickle',\n",
       " '/Users/raymond/code/FinalProject563/data/trialpretrain01/iteration3/examples-3-3-256-256-13.pickle',\n",
       " '/Users/raymond/code/FinalProject563/data/trialpretrain01/iteration3/examples-3-4-256-256-4.pickle',\n",
       " '/Users/raymond/code/FinalProject563/data/trialpretrain01/iteration3/examples-3-4-256-256-8.pickle',\n",
       " '/Users/raymond/code/FinalProject563/data/trialpretrain01/iteration3/examples-3-4-256-256-15.pickle',\n",
       " '/Users/raymond/code/FinalProject563/data/trialpretrain01/iteration3/examples-3-1-256-256-11.pickle',\n",
       " '/Users/raymond/code/FinalProject563/data/trialpretrain01/iteration3/examples-3-5-256-256-6.pickle',\n",
       " '/Users/raymond/code/FinalProject563/data/trialpretrain01/iteration3/examples-3-5-256-256-13.pickle',\n",
       " '/Users/raymond/code/FinalProject563/data/trialpretrain01/iteration3/examples-3-1-256-256-8.pickle',\n",
       " '/Users/raymond/code/FinalProject563/data/trialpretrain01/iteration3/examples-3-3-256-256-5.pickle',\n",
       " '/Users/raymond/code/FinalProject563/data/trialpretrain01/iteration3/examples-3-2-256-256-15.pickle',\n",
       " '/Users/raymond/code/FinalProject563/data/trialpretrain01/iteration3/examples-3-1-256-256-4.pickle',\n",
       " '/Users/raymond/code/FinalProject563/data/trialpretrain01/iteration3/examples-3-3-256-256-9.pickle',\n",
       " '/Users/raymond/code/FinalProject563/data/trialpretrain01/iteration3/examples-3-4-256-256-11.pickle',\n",
       " '/Users/raymond/code/FinalProject563/data/trialpretrain01/iteration3/examples-3-0-256-256-13.pickle',\n",
       " '/Users/raymond/code/FinalProject563/data/trialpretrain01/iteration3/examples-3-4-256-256-0.pickle',\n",
       " '/Users/raymond/code/FinalProject563/data/trialpretrain01/iteration3/examples-3-0-256-256-2.pickle',\n",
       " '/Users/raymond/code/FinalProject563/data/trialpretrain01/iteration3/examples-3-2-256-256-3.pickle',\n",
       " '/Users/raymond/code/FinalProject563/data/trialpretrain01/iteration3/examples-3-4-256-256-2.pickle',\n",
       " '/Users/raymond/code/FinalProject563/data/trialpretrain01/iteration3/examples-3-0-256-256-11.pickle',\n",
       " '/Users/raymond/code/FinalProject563/data/trialpretrain01/iteration3/examples-3-4-256-256-13.pickle',\n",
       " '/Users/raymond/code/FinalProject563/data/trialpretrain01/iteration3/examples-3-2-256-256-1.pickle',\n",
       " '/Users/raymond/code/FinalProject563/data/trialpretrain01/iteration3/examples-3-3-256-256-15.pickle',\n",
       " '/Users/raymond/code/FinalProject563/data/trialpretrain01/iteration3/examples-3-0-256-256-0.pickle',\n",
       " '/Users/raymond/code/FinalProject563/data/trialpretrain01/iteration3/examples-3-5-256-256-11.pickle',\n",
       " '/Users/raymond/code/FinalProject563/data/trialpretrain01/iteration3/examples-3-5-256-256-8.pickle',\n",
       " '/Users/raymond/code/FinalProject563/data/trialpretrain01/iteration3/examples-3-5-256-256-4.pickle',\n",
       " '/Users/raymond/code/FinalProject563/data/trialpretrain01/iteration3/examples-3-1-256-256-13.pickle',\n",
       " '/Users/raymond/code/FinalProject563/data/trialpretrain01/iteration3/examples-3-1-256-256-6.pickle',\n",
       " '/Users/raymond/code/FinalProject563/data/trialpretrain01/iteration3/examples-3-3-256-256-7.pickle',\n",
       " '/Users/raymond/code/FinalProject563/data/trialpretrain01/iteration3/examples-3-5-256-256-1.pickle',\n",
       " '/Users/raymond/code/FinalProject563/data/trialpretrain01/iteration3/examples-3-5-256-256-14.pickle',\n",
       " '/Users/raymond/code/FinalProject563/data/trialpretrain01/iteration3/examples-3-3-256-256-2.pickle',\n",
       " '/Users/raymond/code/FinalProject563/data/trialpretrain01/iteration3/examples-3-2-256-256-12.pickle',\n",
       " '/Users/raymond/code/FinalProject563/data/trialpretrain01/iteration3/examples-3-1-256-256-3.pickle',\n",
       " '/Users/raymond/code/FinalProject563/data/trialpretrain01/iteration3/examples-3-4-256-256-7.pickle',\n",
       " '/Users/raymond/code/FinalProject563/data/trialpretrain01/iteration3/examples-3-0-256-256-14.pickle',\n",
       " '/Users/raymond/code/FinalProject563/data/trialpretrain01/iteration3/examples-3-3-256-256-10.pickle',\n",
       " '/Users/raymond/code/FinalProject563/data/trialpretrain01/iteration3/examples-3-0-256-256-5.pickle',\n",
       " '/Users/raymond/code/FinalProject563/data/trialpretrain01/iteration3/examples-3-2-256-256-8.pickle',\n",
       " '/Users/raymond/code/FinalProject563/data/trialpretrain01/iteration3/examples-3-0-256-256-9.pickle',\n",
       " '/Users/raymond/code/FinalProject563/data/trialpretrain01/iteration3/examples-3-2-256-256-4.pickle',\n",
       " '/Users/raymond/code/FinalProject563/data/trialpretrain01/iteration3/examples-3-4-256-256-5.pickle',\n",
       " '/Users/raymond/code/FinalProject563/data/trialpretrain01/iteration3/examples-3-4-256-256-14.pickle',\n",
       " '/Users/raymond/code/FinalProject563/data/trialpretrain01/iteration3/examples-3-4-256-256-9.pickle',\n",
       " '/Users/raymond/code/FinalProject563/data/trialpretrain01/iteration3/examples-3-2-256-256-6.pickle',\n",
       " '/Users/raymond/code/FinalProject563/data/trialpretrain01/iteration3/examples-3-3-256-256-12.pickle',\n",
       " '/Users/raymond/code/FinalProject563/data/trialpretrain01/iteration3/examples-3-0-256-256-7.pickle',\n",
       " '/Users/raymond/code/FinalProject563/data/trialpretrain01/iteration3/examples-3-5-256-256-3.pickle',\n",
       " '/Users/raymond/code/FinalProject563/data/trialpretrain01/iteration3/examples-3-1-256-256-14.pickle',\n",
       " '/Users/raymond/code/FinalProject563/data/trialpretrain01/iteration3/examples-3-1-256-256-1.pickle',\n",
       " '/Users/raymond/code/FinalProject563/data/trialpretrain01/iteration3/examples-3-2-256-256-10.pickle',\n",
       " '/Users/raymond/code/FinalProject563/data/trialpretrain01/iteration3/examples-3-3-256-256-0.pickle',\n",
       " '/Users/raymond/code/FinalProject563/data/trialpretrain01/iteration3/examples-3-0-256-256-3.pickle',\n",
       " '/Users/raymond/code/FinalProject563/data/trialpretrain01/iteration3/examples-3-2-256-256-2.pickle',\n",
       " '/Users/raymond/code/FinalProject563/data/trialpretrain01/iteration3/examples-3-4-256-256-10.pickle',\n",
       " '/Users/raymond/code/FinalProject563/data/trialpretrain01/iteration3/examples-3-0-256-256-12.pickle',\n",
       " '/Users/raymond/code/FinalProject563/data/trialpretrain01/iteration3/examples-3-4-256-256-1.pickle',\n",
       " '/Users/raymond/code/FinalProject563/data/trialpretrain01/iteration3/examples-3-1-256-256-9.pickle',\n",
       " '/Users/raymond/code/FinalProject563/data/trialpretrain01/iteration3/examples-3-3-256-256-4.pickle',\n",
       " '/Users/raymond/code/FinalProject563/data/trialpretrain01/iteration3/examples-3-1-256-256-5.pickle',\n",
       " '/Users/raymond/code/FinalProject563/data/trialpretrain01/iteration3/examples-3-3-256-256-8.pickle',\n",
       " '/Users/raymond/code/FinalProject563/data/trialpretrain01/iteration3/examples-3-2-256-256-14.pickle',\n",
       " '/Users/raymond/code/FinalProject563/data/trialpretrain01/iteration3/examples-3-5-256-256-7.pickle',\n",
       " '/Users/raymond/code/FinalProject563/data/trialpretrain01/iteration3/examples-3-1-256-256-10.pickle',\n",
       " '/Users/raymond/code/FinalProject563/data/trialpretrain01/iteration3/examples-3-5-256-256-12.pickle',\n",
       " '/Users/raymond/code/FinalProject563/data/trialpretrain01/iteration3/examples-3-1-256-256-7.pickle',\n",
       " '/Users/raymond/code/FinalProject563/data/trialpretrain01/iteration3/examples-3-3-256-256-6.pickle',\n",
       " '/Users/raymond/code/FinalProject563/data/trialpretrain01/iteration3/examples-3-5-256-256-9.pickle',\n",
       " '/Users/raymond/code/FinalProject563/data/trialpretrain01/iteration3/examples-3-5-256-256-10.pickle',\n",
       " '/Users/raymond/code/FinalProject563/data/trialpretrain01/iteration3/examples-3-1-256-256-12.pickle',\n",
       " '/Users/raymond/code/FinalProject563/data/trialpretrain01/iteration3/examples-3-5-256-256-5.pickle',\n",
       " '/Users/raymond/code/FinalProject563/data/trialpretrain01/iteration3/examples-3-2-256-256-0.pickle',\n",
       " '/Users/raymond/code/FinalProject563/data/trialpretrain01/iteration3/examples-3-0-256-256-1.pickle',\n",
       " '/Users/raymond/code/FinalProject563/data/trialpretrain01/iteration3/examples-3-3-256-256-14.pickle',\n",
       " '/Users/raymond/code/FinalProject563/data/trialpretrain01/iteration3/examples-3-4-256-256-3.pickle',\n",
       " '/Users/raymond/code/FinalProject563/data/trialpretrain01/iteration3/examples-3-0-256-256-10.pickle',\n",
       " '/Users/raymond/code/FinalProject563/data/trialpretrain01/iteration3/examples-3-4-256-256-12.pickle']"
      ]
     },
     "execution_count": 3,
     "metadata": {},
     "output_type": "execute_result"
    }
   ],
   "source": [
    "files = glob.glob(\"/Users/raymond/code/FinalProject563/data/trialpretrain01/iteration3/examples-3-*.pickle\")\n",
    "files"
   ]
  },
  {
   "cell_type": "code",
   "execution_count": 4,
   "id": "57ec6693",
   "metadata": {},
   "outputs": [
    {
     "name": "stdout",
     "output_type": "stream",
     "text": [
      "ConnectNet(\n",
      "  (layer1): Sequential(\n",
      "    (0): Conv2d(1, 128, kernel_size=(4, 4), stride=(1, 1))\n",
      "    (1): ReLU()\n",
      "  )\n",
      "  (fc): Sequential(\n",
      "    (0): Conv2d(128, 64, kernel_size=(3, 4), stride=(1, 1))\n",
      "    (1): ReLU()\n",
      "    (2): Flatten(start_dim=1, end_dim=-1)\n",
      "    (3): Linear(in_features=64, out_features=64, bias=True)\n",
      "    (4): ReLU()\n",
      "    (5): Linear(in_features=64, out_features=8, bias=True)\n",
      "  )\n",
      ")\n"
     ]
    }
   ],
   "source": [
    "nnet = connect_net.load_model(\"/Users/raymond/code/FinalProject563/data/trialpretrain01/iteration3/model-3.model\")"
   ]
  },
  {
   "cell_type": "code",
   "execution_count": 5,
   "id": "803d70ff",
   "metadata": {},
   "outputs": [],
   "source": [
    "examples = []\n",
    "for f in files:\n",
    "    with open(files[0], \"rb\") as f:\n",
    "        examples += pickle.load(f)\n",
    "examples = list(reversed(examples))"
   ]
  },
  {
   "cell_type": "code",
   "execution_count": 6,
   "id": "4cddd468",
   "metadata": {},
   "outputs": [],
   "source": [
    "for item in examples:\n",
    "    output = connect_four.to_rep(item[0])\n",
    "    start_state = output == \"111111111111111111111111111111111111111111\"\n",
    "    item.append(start_state)"
   ]
  },
  {
   "cell_type": "code",
   "execution_count": 7,
   "id": "c89d8d5b",
   "metadata": {
    "scrolled": false
   },
   "outputs": [],
   "source": [
    "new_examples = []\n",
    "new_list = None\n",
    "for item in examples:\n",
    "    if item[4]:\n",
    "        if new_list is not None:\n",
    "            new_examples.append(new_list)\n",
    "        new_list = []\n",
    "    new_list.append(item)\n",
    "else:\n",
    "    new_examples.append(new_list)"
   ]
  },
  {
   "cell_type": "code",
   "execution_count": 8,
   "id": "95d23f80",
   "metadata": {},
   "outputs": [
    {
     "name": "stdout",
     "output_type": "stream",
     "text": [
      "1536 1305 231\n"
     ]
    }
   ],
   "source": [
    "total_num = len(new_examples)\n",
    "train_num = int(total_num * 0.85)\n",
    "val_num = total_num - train_num\n",
    "# test_num = total_num - train_num - val_num\n",
    "print(total_num, train_num, val_num)\n",
    "\n",
    "shuffled_indexes = list(range(total_num))\n",
    "random.shuffle(shuffled_indexes)\n",
    "\n",
    "train_games = [new_examples[i] for i in shuffled_indexes[:train_num]]\n",
    "val_games = [new_examples[i] for i in shuffled_indexes[train_num:]]\n",
    "# test_games = [new_examples[i] for i in shuffled_indexes[train_num+val_num:]]"
   ]
  },
  {
   "cell_type": "code",
   "execution_count": 9,
   "id": "8db246c7",
   "metadata": {},
   "outputs": [
    {
     "name": "stdout",
     "output_type": "stream",
     "text": [
      "torch.Size([36958, 6, 7]) torch.Size([36958]) torch.Size([36958, 7])\n",
      "torch.Size([6530, 6, 7]) torch.Size([6530]) torch.Size([6530, 7])\n"
     ]
    }
   ],
   "source": [
    "train_boards = torch.stack([m[0] for g in train_games for m in g])\n",
    "train_scores = torch.Tensor([m[3] for g in train_games for m in g])\n",
    "train_moves = torch.stack([m[1] for g in train_games for m in g])\n",
    "print(train_boards.shape, train_scores.shape, train_moves.shape)\n",
    "\n",
    "val_boards = torch.stack([m[0] for g in val_games for m in g])\n",
    "val_scores = torch.Tensor([m[3] for g in val_games for m in g])\n",
    "val_moves = torch.stack([m[1] for g in val_games for m in g])\n",
    "print(val_boards.shape, val_scores.shape, val_moves.shape)\n",
    "\n",
    "# test_boards = torch.stack([m[0] for g in test_games for m in g])\n",
    "# test_scores = torch.Tensor([m[3] for g in test_games for m in g])\n",
    "# test_moves = torch.stack([m[1] for g in test_games for m in g])\n",
    "# print(test_boards.shape, test_scores.shape, test_moves.shape)"
   ]
  },
  {
   "cell_type": "code",
   "execution_count": 10,
   "id": "9fe05833",
   "metadata": {},
   "outputs": [],
   "source": [
    "optimizer = torch.optim.Adam(nnet.parameters(), lr=0.001)\n",
    "losses_train = []\n",
    "losses_validation = []"
   ]
  },
  {
   "cell_type": "code",
   "execution_count": 11,
   "id": "27d10ced",
   "metadata": {},
   "outputs": [],
   "source": [
    "def loss_fn(est_scores, est_probs, target_scores, target_probs):\n",
    "    loss_scores = (est_scores - target_scores).square().sum()\n",
    "    loss_probs = (target_probs * est_probs.log()).sum()\n",
    "    loss_total = loss_scores - loss_probs\n",
    "    return loss_total\n"
   ]
  },
  {
   "cell_type": "code",
   "execution_count": 14,
   "id": "6acd2919",
   "metadata": {},
   "outputs": [
    {
     "name": "stdout",
     "output_type": "stream",
     "text": [
      "EPOCH::0  LOSS::5554.5527  TIME::2.5446\n",
      "EPOCH::10  LOSS::5511.9131  TIME::2.3860\n",
      "EPOCH::20  LOSS::5499.2593  TIME::2.4202\n",
      "EPOCH::30  LOSS::5471.8862  TIME::2.4046\n",
      "EPOCH::40  LOSS::5442.8872  TIME::2.4009\n",
      "EPOCH::50  LOSS::5416.4761  TIME::2.3961\n",
      "EPOCH::60  LOSS::5400.8052  TIME::2.3903\n",
      "EPOCH::70  LOSS::5412.6074  TIME::2.4011\n",
      "EPOCH::80  LOSS::5382.8291  TIME::2.4075\n",
      "EPOCH::90  LOSS::5359.3901  TIME::2.3949\n",
      "EPOCH::100  LOSS::5375.6074  TIME::2.4179\n",
      "EPOCH::110  LOSS::5353.0776  TIME::2.4112\n",
      "EPOCH::120  LOSS::5333.4526  TIME::2.4124\n",
      "EPOCH::130  LOSS::5320.1646  TIME::2.4051\n",
      "EPOCH::140  LOSS::5313.2266  TIME::2.4073\n",
      "EPOCH::150  LOSS::5292.2271  TIME::2.4010\n",
      "EPOCH::160  LOSS::5284.0396  TIME::2.4112\n",
      "EPOCH::170  LOSS::5360.0146  TIME::2.4018\n",
      "EPOCH::180  LOSS::5285.5620  TIME::2.4281\n",
      "EPOCH::190  LOSS::5277.0991  TIME::2.4215\n",
      "EPOCH::200  LOSS::5261.3574  TIME::2.4188\n",
      "EPOCH::210  LOSS::5265.9683  TIME::2.3953\n",
      "EPOCH::220  LOSS::5281.5083  TIME::2.4185\n"
     ]
    },
    {
     "ename": "KeyboardInterrupt",
     "evalue": "",
     "output_type": "error",
     "traceback": [
      "\u001b[0;31m---------------------------------------------------------------------------\u001b[0m",
      "\u001b[0;31mKeyboardInterrupt\u001b[0m                         Traceback (most recent call last)",
      "Input \u001b[0;32mIn [14]\u001b[0m, in \u001b[0;36m<cell line: 1>\u001b[0;34m()\u001b[0m\n\u001b[1;32m      1\u001b[0m \u001b[38;5;28;01mfor\u001b[39;00m i \u001b[38;5;129;01min\u001b[39;00m \u001b[38;5;28mrange\u001b[39m(\u001b[38;5;241m500\u001b[39m):\n\u001b[1;32m      2\u001b[0m     start_time \u001b[38;5;241m=\u001b[39m time\u001b[38;5;241m.\u001b[39mtime()\n\u001b[0;32m----> 3\u001b[0m     v, proba \u001b[38;5;241m=\u001b[39m \u001b[43mnnet\u001b[49m\u001b[43m(\u001b[49m\u001b[43mtrain_boards\u001b[49m\u001b[38;5;241;43m.\u001b[39;49m\u001b[43mview\u001b[49m\u001b[43m(\u001b[49m\u001b[38;5;241;43m-\u001b[39;49m\u001b[38;5;241;43m1\u001b[39;49m\u001b[43m,\u001b[49m\u001b[43m \u001b[49m\u001b[38;5;241;43m1\u001b[39;49m\u001b[43m,\u001b[49m\u001b[43m \u001b[49m\u001b[38;5;241;43m6\u001b[39;49m\u001b[43m,\u001b[49m\u001b[43m \u001b[49m\u001b[38;5;241;43m7\u001b[39;49m\u001b[43m)\u001b[49m\u001b[43m)\u001b[49m\n\u001b[1;32m      4\u001b[0m     train_loss \u001b[38;5;241m=\u001b[39m loss_fn(v, proba, train_scores, train_moves)\n\u001b[1;32m      5\u001b[0m     losses_train\u001b[38;5;241m.\u001b[39mappend(train_loss\u001b[38;5;241m.\u001b[39mitem())\n",
      "File \u001b[0;32m~/opt/anaconda3/lib/python3.9/site-packages/torch/nn/modules/module.py:1110\u001b[0m, in \u001b[0;36mModule._call_impl\u001b[0;34m(self, *input, **kwargs)\u001b[0m\n\u001b[1;32m   1106\u001b[0m \u001b[38;5;66;03m# If we don't have any hooks, we want to skip the rest of the logic in\u001b[39;00m\n\u001b[1;32m   1107\u001b[0m \u001b[38;5;66;03m# this function, and just call forward.\u001b[39;00m\n\u001b[1;32m   1108\u001b[0m \u001b[38;5;28;01mif\u001b[39;00m \u001b[38;5;129;01mnot\u001b[39;00m (\u001b[38;5;28mself\u001b[39m\u001b[38;5;241m.\u001b[39m_backward_hooks \u001b[38;5;129;01mor\u001b[39;00m \u001b[38;5;28mself\u001b[39m\u001b[38;5;241m.\u001b[39m_forward_hooks \u001b[38;5;129;01mor\u001b[39;00m \u001b[38;5;28mself\u001b[39m\u001b[38;5;241m.\u001b[39m_forward_pre_hooks \u001b[38;5;129;01mor\u001b[39;00m _global_backward_hooks\n\u001b[1;32m   1109\u001b[0m         \u001b[38;5;129;01mor\u001b[39;00m _global_forward_hooks \u001b[38;5;129;01mor\u001b[39;00m _global_forward_pre_hooks):\n\u001b[0;32m-> 1110\u001b[0m     \u001b[38;5;28;01mreturn\u001b[39;00m \u001b[43mforward_call\u001b[49m\u001b[43m(\u001b[49m\u001b[38;5;241;43m*\u001b[39;49m\u001b[38;5;28;43minput\u001b[39;49m\u001b[43m,\u001b[49m\u001b[43m \u001b[49m\u001b[38;5;241;43m*\u001b[39;49m\u001b[38;5;241;43m*\u001b[39;49m\u001b[43mkwargs\u001b[49m\u001b[43m)\u001b[49m\n\u001b[1;32m   1111\u001b[0m \u001b[38;5;66;03m# Do not call functions when jit is used\u001b[39;00m\n\u001b[1;32m   1112\u001b[0m full_backward_hooks, non_full_backward_hooks \u001b[38;5;241m=\u001b[39m [], []\n",
      "File \u001b[0;32m~/code/FinalProject563/connect_net.py:27\u001b[0m, in \u001b[0;36mConnectNet.forward\u001b[0;34m(self, x)\u001b[0m\n\u001b[1;32m     25\u001b[0m output \u001b[38;5;241m=\u001b[39m \u001b[38;5;28mself\u001b[39m\u001b[38;5;241m.\u001b[39mlayer1(x)\n\u001b[1;32m     26\u001b[0m output \u001b[38;5;241m=\u001b[39m \u001b[38;5;28mself\u001b[39m\u001b[38;5;241m.\u001b[39mfc(output)\n\u001b[0;32m---> 27\u001b[0m \u001b[38;5;28;01mreturn\u001b[39;00m torch\u001b[38;5;241m.\u001b[39mtanh(output[:, \u001b[38;5;241m0\u001b[39m]), \u001b[43mtorch\u001b[49m\u001b[38;5;241;43m.\u001b[39;49m\u001b[43mnn\u001b[49m\u001b[38;5;241;43m.\u001b[39;49m\u001b[43mfunctional\u001b[49m\u001b[38;5;241;43m.\u001b[39;49m\u001b[43msoftmax\u001b[49m\u001b[43m(\u001b[49m\u001b[43moutput\u001b[49m\u001b[43m[\u001b[49m\u001b[43m:\u001b[49m\u001b[43m,\u001b[49m\u001b[43m \u001b[49m\u001b[38;5;241;43m1\u001b[39;49m\u001b[43m:\u001b[49m\u001b[43m]\u001b[49m\u001b[43m,\u001b[49m\u001b[43m \u001b[49m\u001b[43mdim\u001b[49m\u001b[38;5;241;43m=\u001b[39;49m\u001b[38;5;241;43m1\u001b[39;49m\u001b[43m)\u001b[49m\n",
      "File \u001b[0;32m~/opt/anaconda3/lib/python3.9/site-packages/torch/nn/functional.py:1818\u001b[0m, in \u001b[0;36msoftmax\u001b[0;34m(input, dim, _stacklevel, dtype)\u001b[0m\n\u001b[1;32m   1816\u001b[0m     dim \u001b[38;5;241m=\u001b[39m _get_softmax_dim(\u001b[38;5;124m\"\u001b[39m\u001b[38;5;124msoftmax\u001b[39m\u001b[38;5;124m\"\u001b[39m, \u001b[38;5;28minput\u001b[39m\u001b[38;5;241m.\u001b[39mdim(), _stacklevel)\n\u001b[1;32m   1817\u001b[0m \u001b[38;5;28;01mif\u001b[39;00m dtype \u001b[38;5;129;01mis\u001b[39;00m \u001b[38;5;28;01mNone\u001b[39;00m:\n\u001b[0;32m-> 1818\u001b[0m     ret \u001b[38;5;241m=\u001b[39m \u001b[38;5;28;43minput\u001b[39;49m\u001b[38;5;241;43m.\u001b[39;49m\u001b[43msoftmax\u001b[49m\u001b[43m(\u001b[49m\u001b[43mdim\u001b[49m\u001b[43m)\u001b[49m\n\u001b[1;32m   1819\u001b[0m \u001b[38;5;28;01melse\u001b[39;00m:\n\u001b[1;32m   1820\u001b[0m     ret \u001b[38;5;241m=\u001b[39m \u001b[38;5;28minput\u001b[39m\u001b[38;5;241m.\u001b[39msoftmax(dim, dtype\u001b[38;5;241m=\u001b[39mdtype)\n",
      "\u001b[0;31mKeyboardInterrupt\u001b[0m: "
     ]
    }
   ],
   "source": [
    "for i in range(500):\n",
    "    start_time = time.time()\n",
    "    v, proba = nnet(train_boards.view(-1, 1, 6, 7))\n",
    "    train_loss = loss_fn(v, proba, train_scores, train_moves)\n",
    "    losses_train.append(train_loss.item())\n",
    "    \n",
    "    optimizer.zero_grad()\n",
    "    train_loss.backward()\n",
    "    optimizer.step()\n",
    "    \n",
    "    v, proba = nnet(val_boards.view(-1, 1, 6, 7))\n",
    "    val_loss = loss_fn(v, proba, val_scores, val_moves).item()\n",
    "    losses_validation.append(val_loss)\n",
    "    if i % 10 == 0:\n",
    "        print(f\"EPOCH::{i}  LOSS::{val_loss:.4f}  TIME::{time.time() - start_time:.4f}\")"
   ]
  },
  {
   "cell_type": "code",
   "execution_count": 15,
   "id": "f28ca567",
   "metadata": {},
   "outputs": [
    {
     "data": {
      "text/plain": [
       "<AxesSubplot:>"
      ]
     },
     "execution_count": 15,
     "metadata": {},
     "output_type": "execute_result"
    },
    {
     "data": {
      "image/png": "[encoded data removed]",
      "text/plain": [
       "<Figure size 720x432 with 1 Axes>"
      ]
     },
     "metadata": {
      "needs_background": "light"
     },
     "output_type": "display_data"
    }
   ],
   "source": [
    "pandas.Series(losses_validation).plot(figsize=(10, 6))"
   ]
  },
  {
   "cell_type": "code",
   "execution_count": 16,
   "id": "8b1d8a27",
   "metadata": {},
   "outputs": [],
   "source": [
    "connect_net.save_model(nnet, \"../models/pretrain01-iter03.model\")"
   ]
  },
  {
   "cell_type": "code",
   "execution_count": null,
   "id": "c40cd133",
   "metadata": {},
   "outputs": [],
   "source": []
  }
 ],
 "metadata": {
  "kernelspec": {
   "display_name": "Python 3 (ipykernel)",
   "language": "python",
   "name": "python3"
  },
  "language_info": {
   "codemirror_mode": {
    "name": "ipython",
    "version": 3
   },
   "file_extension": ".py",
   "mimetype": "text/x-python",
   "name": "python",
   "nbconvert_exporter": "python",
   "pygments_lexer": "ipython3",
   "version": "3.9.7"
  }
 },
 "nbformat": 4,
 "nbformat_minor": 5
}
