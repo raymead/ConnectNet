{
 "cells": [
  {
   "cell_type": "code",
   "execution_count": 1,
   "id": "9d45d67d",
   "metadata": {},
   "outputs": [],
   "source": [
    "import sys\n",
    "if \"/Users/raymond/code/FinalProject563\" not in sys.path:\n",
    "    sys.path.append(\"/Users/raymond/code/FinalProject563\")\n",
    "import os\n",
    "import time\n",
    "import torch\n",
    "import random\n",
    "import numpy as np\n",
    "import pandas\n",
    "import glob\n",
    "import matplotlib.pyplot as plt\n",
    "import pickle\n",
    "\n",
    "import connect_four\n",
    "import mcts\n",
    "import connect_net\n",
    "import connect_plot\n",
    "import evaluation\n",
    "import utils\n",
    "import runner"
   ]
  },
  {
   "cell_type": "code",
   "execution_count": 2,
   "id": "0616ca08",
   "metadata": {},
   "outputs": [],
   "source": [
    "os.chdir(\"/Users/raymond/code/FinalProject563\")\n",
    "iteration = 1\n",
    "sim_folder = utils.get_simulation_folder(trial=\"test01\", iteration=iteration)\n",
    "sim_files = glob.glob(os.path.join(sim_folder, f\"examples-{iteration}-*.pickle\"))\n",
    "sim_model_path = runner.get_model_path(folder=sim_folder, iteration=iteration)"
   ]
  },
  {
   "cell_type": "code",
   "execution_count": 3,
   "id": "151c00fc",
   "metadata": {},
   "outputs": [
    {
     "name": "stdout",
     "output_type": "stream",
     "text": [
      "ConnectNet(\n",
      "  (layer1): Sequential(\n",
      "    (0): Conv2d(1, 128, kernel_size=(4, 4), stride=(1, 1))\n",
      "    (1): Tanh()\n",
      "  )\n",
      "  (fc): Sequential(\n",
      "    (0): Conv2d(128, 128, kernel_size=(3, 4), stride=(1, 1))\n",
      "    (1): Tanh()\n",
      "    (2): Flatten(start_dim=1, end_dim=-1)\n",
      "    (3): Linear(in_features=128, out_features=128, bias=True)\n",
      "    (4): Tanh()\n",
      "    (5): Linear(in_features=128, out_features=8, bias=True)\n",
      "  )\n",
      ")\n",
      "ConnectNet(\n",
      "  (layer1): Sequential(\n",
      "    (0): Conv2d(1, 128, kernel_size=(4, 4), stride=(1, 1))\n",
      "    (1): Tanh()\n",
      "  )\n",
      "  (fc): Sequential(\n",
      "    (0): Conv2d(128, 128, kernel_size=(3, 4), stride=(1, 1))\n",
      "    (1): Tanh()\n",
      "    (2): Flatten(start_dim=1, end_dim=-1)\n",
      "    (3): Linear(in_features=128, out_features=128, bias=True)\n",
      "    (4): Tanh()\n",
      "    (5): Linear(in_features=128, out_features=8, bias=True)\n",
      "  )\n",
      ")\n"
     ]
    }
   ],
   "source": [
    "nnet = connect_net.load_model(sim_model_path)\n",
    "nnet0 = connect_net.load_model(sim_model_path)\n",
    "# nnet = connect_net.ConnectNet()\n",
    "# nnet0 = connect_net.ConnectNet()"
   ]
  },
  {
   "cell_type": "code",
   "execution_count": 4,
   "id": "7431aac4",
   "metadata": {},
   "outputs": [],
   "source": [
    "# num_mcts_sims = 25\n",
    "# results = []\n",
    "# for j in range(15):\n",
    "#     with torch.no_grad():\n",
    "#         result = evaluation.competition_game(\n",
    "#             player1=nnet, p1_mcts_sims=num_mcts_sims,\n",
    "#             player2=nnet0, p2_mcts_sims=num_mcts_sims)\n",
    "#         results.append(result)\n",
    "# df_res = pandas.DataFrame([(r[0], r[1]) for r in results], columns=[\"Winner\", \"moves\"])\n",
    "# df_res[\"Winner\"].value_counts()"
   ]
  },
  {
   "cell_type": "code",
   "execution_count": 5,
   "id": "63d5de52",
   "metadata": {},
   "outputs": [],
   "source": [
    "examples = []\n",
    "for fname in sim_files:\n",
    "    with open(fname, \"rb\") as f:\n",
    "        examples += pickle.load(f)"
   ]
  },
  {
   "cell_type": "code",
   "execution_count": 6,
   "id": "4e3dccab",
   "metadata": {},
   "outputs": [],
   "source": [
    "train_games, val_games = runner.split_games(examples=examples, train_fraction=0.85)"
   ]
  },
  {
   "cell_type": "code",
   "execution_count": 7,
   "id": "a0cc4ff9",
   "metadata": {},
   "outputs": [
    {
     "name": "stdout",
     "output_type": "stream",
     "text": [
      "torch.Size([24893, 6, 7]) torch.Size([24893]) torch.Size([24893, 7])\n",
      "torch.Size([4333, 6, 7]) torch.Size([4333]) torch.Size([4333, 7])\n"
     ]
    }
   ],
   "source": [
    "train_boards, train_scores, train_moves = runner.split_items(games=train_games)\n",
    "print(train_boards.shape, train_scores.shape, train_moves.shape)\n",
    "val_boards, val_scores, val_moves = runner.split_items(games=val_games)\n",
    "print(val_boards.shape, val_scores.shape, val_moves.shape)"
   ]
  },
  {
   "cell_type": "code",
   "execution_count": 8,
   "id": "eb7db969",
   "metadata": {},
   "outputs": [],
   "source": [
    "learning_rate = 0.001\n",
    "optimizer = torch.optim.Adam(nnet.parameters(), lr=learning_rate)\n",
    "losses_train = []\n",
    "losses_val = []"
   ]
  },
  {
   "cell_type": "code",
   "execution_count": 9,
   "id": "8760fe3f",
   "metadata": {},
   "outputs": [],
   "source": [
    "def full_loss_fn(est_scores, est_probs, target_scores, target_probs):\n",
    "    loss_scores = (est_scores - target_scores).square().sum()\n",
    "    loss_probs = (target_probs * est_probs.log()).sum()\n",
    "    loss_total = loss_scores - loss_probs\n",
    "    return loss_total"
   ]
  },
  {
   "cell_type": "code",
   "execution_count": 10,
   "id": "69174886",
   "metadata": {},
   "outputs": [],
   "source": [
    "num_mcts_sims = 32\n",
    "epochs = 100"
   ]
  },
  {
   "cell_type": "code",
   "execution_count": 12,
   "id": "d7c8226f",
   "metadata": {
    "scrolled": false
   },
   "outputs": [
    {
     "name": "stdout",
     "output_type": "stream",
     "text": [
      "Start\n",
      "player1    57\n",
      "player2    42\n",
      "Draw        1\n",
      "Name: Winner, dtype: int64\n",
      "tensor(15936.2607, grad_fn=<SumBackward0>) tensor(-40824.4062, grad_fn=<SumBackward0>)\n",
      "tensor(4021.3914) tensor(-7120.5083)\n",
      "EPOCH::0  LOSS::11141.8994  TIME::2.5736\n",
      "player1    65\n",
      "player2    35\n",
      "Name: Winner, dtype: int64\n",
      "tensor(15899.4092, grad_fn=<SumBackward0>) tensor(-40798.0508, grad_fn=<SumBackward0>)\n",
      "tensor(4025.1963) tensor(-7116.3765)\n",
      "tensor(15863.1045, grad_fn=<SumBackward0>) tensor(-40772.1406, grad_fn=<SumBackward0>)\n",
      "tensor(4027.6558) tensor(-7112.3271)\n",
      "tensor(15826.7705, grad_fn=<SumBackward0>) tensor(-40746.7305, grad_fn=<SumBackward0>)\n",
      "tensor(4031.2163) tensor(-7108.3525)\n",
      "tensor(15790.4062, grad_fn=<SumBackward0>) tensor(-40721.6914, grad_fn=<SumBackward0>)\n",
      "tensor(4034.6802) tensor(-7104.4375)\n",
      "tensor(15754.5820, grad_fn=<SumBackward0>) tensor(-40697.0312, grad_fn=<SumBackward0>)\n",
      "tensor(4037.7759) tensor(-7100.5703)\n",
      "EPOCH::5  LOSS::11138.3457  TIME::2.3967\n",
      "player1    56\n",
      "player2    42\n",
      "Draw        2\n",
      "Name: Winner, dtype: int64\n",
      "tensor(15719.0303, grad_fn=<SumBackward0>) tensor(-40672.6875, grad_fn=<SumBackward0>)\n",
      "tensor(4042.0938) tensor(-7096.7451)\n",
      "tensor(15683.6357, grad_fn=<SumBackward0>) tensor(-40648.5234, grad_fn=<SumBackward0>)\n",
      "tensor(4045.7351) tensor(-7092.9624)\n",
      "tensor(15648.3799, grad_fn=<SumBackward0>) tensor(-40624.6523, grad_fn=<SumBackward0>)\n",
      "tensor(4049.4019) tensor(-7089.2271)\n",
      "tensor(15613.5762, grad_fn=<SumBackward0>) tensor(-40601.0078, grad_fn=<SumBackward0>)\n",
      "tensor(4053.2041) tensor(-7085.5352)\n",
      "tensor(15578.9736, grad_fn=<SumBackward0>) tensor(-40577.5469, grad_fn=<SumBackward0>)\n",
      "tensor(4056.0242) tensor(-7081.8828)\n",
      "EPOCH::10  LOSS::11137.9072  TIME::2.4231\n",
      "player1    61\n",
      "player2    38\n",
      "Draw        1\n",
      "Name: Winner, dtype: int64\n",
      "tensor(15544.5225, grad_fn=<SumBackward0>) tensor(-40554.3359, grad_fn=<SumBackward0>)\n",
      "tensor(4059.9978) tensor(-7078.2593)\n",
      "tensor(15510.3213, grad_fn=<SumBackward0>) tensor(-40531.2539, grad_fn=<SumBackward0>)\n",
      "tensor(4063.5078) tensor(-7074.6587)\n",
      "tensor(15476.3916, grad_fn=<SumBackward0>) tensor(-40508.3281, grad_fn=<SumBackward0>)\n",
      "tensor(4067.1023) tensor(-7071.0791)\n",
      "tensor(15442.7783, grad_fn=<SumBackward0>) tensor(-40485.5195, grad_fn=<SumBackward0>)\n",
      "tensor(4071.0466) tensor(-7067.5229)\n",
      "tensor(15409.4609, grad_fn=<SumBackward0>) tensor(-40462.8203, grad_fn=<SumBackward0>)\n",
      "tensor(4074.1267) tensor(-7063.9883)\n",
      "EPOCH::15  LOSS::11138.1152  TIME::2.4236\n",
      "player1    56\n",
      "player2    44\n",
      "Name: Winner, dtype: int64\n",
      "tensor(15376.3516, grad_fn=<SumBackward0>) tensor(-40440.2891, grad_fn=<SumBackward0>)\n",
      "tensor(4078.0247) tensor(-7060.4766)\n",
      "tensor(15343.4629, grad_fn=<SumBackward0>) tensor(-40417.8516, grad_fn=<SumBackward0>)\n",
      "tensor(4081.0728) tensor(-7056.9775)\n",
      "tensor(15310.8105, grad_fn=<SumBackward0>) tensor(-40395.5625, grad_fn=<SumBackward0>)\n",
      "tensor(4085.7532) tensor(-7053.4956)\n",
      "tensor(15278.3867, grad_fn=<SumBackward0>) tensor(-40373.3594, grad_fn=<SumBackward0>)\n",
      "tensor(4089.1301) tensor(-7050.0273)\n",
      "tensor(15246.1797, grad_fn=<SumBackward0>) tensor(-40351.2891, grad_fn=<SumBackward0>)\n",
      "tensor(4093.8979) tensor(-7046.5869)\n",
      "EPOCH::20  LOSS::11140.4844  TIME::2.4277\n",
      "player1    60\n",
      "player2    39\n",
      "Draw        1\n",
      "Name: Winner, dtype: int64\n",
      "tensor(15214.3594, grad_fn=<SumBackward0>) tensor(-40329.2930, grad_fn=<SumBackward0>)\n",
      "tensor(4096.2095) tensor(-7043.1724)\n",
      "tensor(15182.9170, grad_fn=<SumBackward0>) tensor(-40307.4883, grad_fn=<SumBackward0>)\n",
      "tensor(4101.4067) tensor(-7039.7974)\n",
      "tensor(15152.5947, grad_fn=<SumBackward0>) tensor(-40285.7422, grad_fn=<SumBackward0>)\n",
      "tensor(4101.9624) tensor(-7036.4419)\n",
      "tensor(15125.0605, grad_fn=<SumBackward0>) tensor(-40264.2422, grad_fn=<SumBackward0>)\n",
      "tensor(4112.4922) tensor(-7033.1392)\n",
      "tensor(15107.5098, grad_fn=<SumBackward0>) tensor(-40242.7383, grad_fn=<SumBackward0>)\n",
      "tensor(4113.0522) tensor(-7029.8604)\n",
      "EPOCH::25  LOSS::11142.9121  TIME::2.4200\n",
      "player1    61\n",
      "player2    36\n",
      "Draw        3\n",
      "Name: Winner, dtype: int64\n",
      "tensor(15122.1992, grad_fn=<SumBackward0>) tensor(-40221.8398, grad_fn=<SumBackward0>)\n",
      "tensor(4156.3809) tensor(-7026.7666)\n",
      "tensor(15258.9893, grad_fn=<SumBackward0>) tensor(-40201.1406, grad_fn=<SumBackward0>)\n",
      "tensor(4185.2925) tensor(-7023.7939)\n",
      "tensor(15622.3047, grad_fn=<SumBackward0>) tensor(-40182.6641, grad_fn=<SumBackward0>)\n"
     ]
    },
    {
     "ename": "KeyboardInterrupt",
     "evalue": "",
     "output_type": "error",
     "traceback": [
      "\u001b[0;31m---------------------------------------------------------------------------\u001b[0m",
      "\u001b[0;31mKeyboardInterrupt\u001b[0m                         Traceback (most recent call last)",
      "Input \u001b[0;32mIn [12]\u001b[0m, in \u001b[0;36m<cell line: 12>\u001b[0;34m()\u001b[0m\n\u001b[1;32m     16\u001b[0m losses_train\u001b[38;5;241m.\u001b[39mappend(train_loss\u001b[38;5;241m.\u001b[39mitem())\n\u001b[1;32m     18\u001b[0m optimizer\u001b[38;5;241m.\u001b[39mzero_grad()\n\u001b[0;32m---> 19\u001b[0m \u001b[43mtrain_loss\u001b[49m\u001b[38;5;241;43m.\u001b[39;49m\u001b[43mbackward\u001b[49m\u001b[43m(\u001b[49m\u001b[43m)\u001b[49m\n\u001b[1;32m     20\u001b[0m optimizer\u001b[38;5;241m.\u001b[39mstep()\n\u001b[1;32m     22\u001b[0m \u001b[38;5;28;01mwith\u001b[39;00m torch\u001b[38;5;241m.\u001b[39mno_grad():\n",
      "File \u001b[0;32m~/opt/anaconda3/lib/python3.9/site-packages/torch/_tensor.py:363\u001b[0m, in \u001b[0;36mTensor.backward\u001b[0;34m(self, gradient, retain_graph, create_graph, inputs)\u001b[0m\n\u001b[1;32m    354\u001b[0m \u001b[38;5;28;01mif\u001b[39;00m has_torch_function_unary(\u001b[38;5;28mself\u001b[39m):\n\u001b[1;32m    355\u001b[0m     \u001b[38;5;28;01mreturn\u001b[39;00m handle_torch_function(\n\u001b[1;32m    356\u001b[0m         Tensor\u001b[38;5;241m.\u001b[39mbackward,\n\u001b[1;32m    357\u001b[0m         (\u001b[38;5;28mself\u001b[39m,),\n\u001b[0;32m   (...)\u001b[0m\n\u001b[1;32m    361\u001b[0m         create_graph\u001b[38;5;241m=\u001b[39mcreate_graph,\n\u001b[1;32m    362\u001b[0m         inputs\u001b[38;5;241m=\u001b[39minputs)\n\u001b[0;32m--> 363\u001b[0m \u001b[43mtorch\u001b[49m\u001b[38;5;241;43m.\u001b[39;49m\u001b[43mautograd\u001b[49m\u001b[38;5;241;43m.\u001b[39;49m\u001b[43mbackward\u001b[49m\u001b[43m(\u001b[49m\u001b[38;5;28;43mself\u001b[39;49m\u001b[43m,\u001b[49m\u001b[43m \u001b[49m\u001b[43mgradient\u001b[49m\u001b[43m,\u001b[49m\u001b[43m \u001b[49m\u001b[43mretain_graph\u001b[49m\u001b[43m,\u001b[49m\u001b[43m \u001b[49m\u001b[43mcreate_graph\u001b[49m\u001b[43m,\u001b[49m\u001b[43m \u001b[49m\u001b[43minputs\u001b[49m\u001b[38;5;241;43m=\u001b[39;49m\u001b[43minputs\u001b[49m\u001b[43m)\u001b[49m\n",
      "File \u001b[0;32m~/opt/anaconda3/lib/python3.9/site-packages/torch/autograd/__init__.py:173\u001b[0m, in \u001b[0;36mbackward\u001b[0;34m(tensors, grad_tensors, retain_graph, create_graph, grad_variables, inputs)\u001b[0m\n\u001b[1;32m    168\u001b[0m     retain_graph \u001b[38;5;241m=\u001b[39m create_graph\n\u001b[1;32m    170\u001b[0m \u001b[38;5;66;03m# The reason we repeat same the comment below is that\u001b[39;00m\n\u001b[1;32m    171\u001b[0m \u001b[38;5;66;03m# some Python versions print out the first line of a multi-line function\u001b[39;00m\n\u001b[1;32m    172\u001b[0m \u001b[38;5;66;03m# calls in the traceback and some print out the last line\u001b[39;00m\n\u001b[0;32m--> 173\u001b[0m \u001b[43mVariable\u001b[49m\u001b[38;5;241;43m.\u001b[39;49m\u001b[43m_execution_engine\u001b[49m\u001b[38;5;241;43m.\u001b[39;49m\u001b[43mrun_backward\u001b[49m\u001b[43m(\u001b[49m\u001b[43m  \u001b[49m\u001b[38;5;66;43;03m# Calls into the C++ engine to run the backward pass\u001b[39;49;00m\n\u001b[1;32m    174\u001b[0m \u001b[43m    \u001b[49m\u001b[43mtensors\u001b[49m\u001b[43m,\u001b[49m\u001b[43m \u001b[49m\u001b[43mgrad_tensors_\u001b[49m\u001b[43m,\u001b[49m\u001b[43m \u001b[49m\u001b[43mretain_graph\u001b[49m\u001b[43m,\u001b[49m\u001b[43m \u001b[49m\u001b[43mcreate_graph\u001b[49m\u001b[43m,\u001b[49m\u001b[43m \u001b[49m\u001b[43minputs\u001b[49m\u001b[43m,\u001b[49m\n\u001b[1;32m    175\u001b[0m \u001b[43m    \u001b[49m\u001b[43mallow_unreachable\u001b[49m\u001b[38;5;241;43m=\u001b[39;49m\u001b[38;5;28;43;01mTrue\u001b[39;49;00m\u001b[43m,\u001b[49m\u001b[43m \u001b[49m\u001b[43maccumulate_grad\u001b[49m\u001b[38;5;241;43m=\u001b[39;49m\u001b[38;5;28;43;01mTrue\u001b[39;49;00m\u001b[43m)\u001b[49m\n",
      "\u001b[0;31mKeyboardInterrupt\u001b[0m: "
     ]
    }
   ],
   "source": [
    "print(\"Start\")\n",
    "results = []\n",
    "for j in range(100):\n",
    "    with torch.no_grad():\n",
    "        result = evaluation.competition_game(\n",
    "            player1=nnet, p1_mcts_sims=num_mcts_sims,\n",
    "            player2=nnet0, p2_mcts_sims=num_mcts_sims)\n",
    "        results.append(result)\n",
    "df_res = pandas.DataFrame([(r[0], r[1]) for r in results], columns=[\"Winner\", \"moves\"])\n",
    "print(df_res[\"Winner\"].value_counts())\n",
    "\n",
    "for i in range(epochs):\n",
    "    start_time = time.time()\n",
    "    v, proba = nnet(train_boards.view(-1, 1, 6, 7))\n",
    "    train_loss = full_loss_fn(v, proba, train_scores, train_moves)\n",
    "    losses_train.append(train_loss.item())\n",
    "\n",
    "    optimizer.zero_grad()\n",
    "    train_loss.backward()\n",
    "    optimizer.step()\n",
    "\n",
    "    with torch.no_grad():\n",
    "        v, proba = nnet(val_boards.view(-1, 1, 6, 7))\n",
    "        val_loss = full_loss_fn(v, proba, val_scores, val_moves).item()\n",
    "        losses_val.append(val_loss)\n",
    "    if i % 5 == 0:\n",
    "        print(f\"EPOCH::{i}  LOSS::{val_loss:.4f}  TIME::{time.time() - start_time:.4f}\")\n",
    "        results = []\n",
    "        for j in range(100):\n",
    "            with torch.no_grad():\n",
    "                result = evaluation.competition_game(\n",
    "                    player1=nnet, p1_mcts_sims=num_mcts_sims,\n",
    "                    player2=nnet0, p2_mcts_sims=num_mcts_sims)\n",
    "                results.append(result)\n",
    "        df_res = pandas.DataFrame([(r[0], r[1]) for r in results], columns=[\"Winner\", \"moves\"])\n",
    "        print(df_res[\"Winner\"].value_counts())\n",
    "        "
   ]
  },
  {
   "cell_type": "code",
   "execution_count": null,
   "id": "4a900aa1",
   "metadata": {},
   "outputs": [],
   "source": []
  },
  {
   "cell_type": "code",
   "execution_count": 16,
   "id": "69359c7e",
   "metadata": {},
   "outputs": [],
   "source": [
    "# connect_net.save_model(nnet, \"../models/pretrain01-iter03.model\")"
   ]
  },
  {
   "cell_type": "code",
   "execution_count": null,
   "id": "e27f914c",
   "metadata": {},
   "outputs": [],
   "source": []
  }
 ],
 "metadata": {
  "kernelspec": {
   "display_name": "Python 3 (ipykernel)",
   "language": "python",
   "name": "python3"
  },
  "language_info": {
   "codemirror_mode": {
    "name": "ipython",
    "version": 3
   },
   "file_extension": ".py",
   "mimetype": "text/x-python",
   "name": "python",
   "nbconvert_exporter": "python",
   "pygments_lexer": "ipython3",
   "version": "3.9.7"
  }
 },
 "nbformat": 4,
 "nbformat_minor": 5
}
