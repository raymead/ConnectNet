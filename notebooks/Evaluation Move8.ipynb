{
 "cells": [
  {
   "cell_type": "code",
   "execution_count": 1,
   "id": "eda8c6a3",
   "metadata": {},
   "outputs": [],
   "source": [
    "import sys\n",
    "if \"/Users/raymond/code/FinalProject563\" not in sys.path:\n",
    "    sys.path.append(\"/Users/raymond/code/FinalProject563\")\n",
    "import torch\n",
    "import pickle\n",
    "import glob\n",
    "import matplotlib.pyplot as plt\n",
    "import random\n",
    "import numpy as np\n",
    "import pandas\n",
    "import time\n",
    "import os\n",
    "\n",
    "import connect_four\n",
    "import mcts\n",
    "import connect_net\n",
    "import connect_plot\n",
    "import evaluation\n",
    "import utils\n",
    "import runner\n",
    "%matplotlib inline\n",
    "%load_ext autoreload\n",
    "%autoreload 2\n",
    "os.chdir(\"/Users/raymond/code/FinalProject563\")"
   ]
  },
  {
   "cell_type": "code",
   "execution_count": 3,
   "id": "c8ebcc13",
   "metadata": {},
   "outputs": [],
   "source": [
    "data_folder = utils.get_data_folder()\n",
    "boards = np.load(os.path.join(data_folder, \"move8_boards.npy\"))\n",
    "winners = np.load(os.path.join(data_folder, \"move8_winner.npy\"))\n",
    "boards = torch.Tensor(boards)\n",
    "winners = torch.Tensor(winners)\n",
    "ones = torch.ones_like(winners)"
   ]
  },
  {
   "cell_type": "code",
   "execution_count": 8,
   "id": "970b72a2",
   "metadata": {},
   "outputs": [],
   "source": [
    "iteration = 63\n",
    "trial = \"test01\"\n",
    "training_folder = utils.get_training_folder(trial=trial, iteration=iteration)\n",
    "training_path = runner.get_model_path(folder=training_folder, iteration=iteration)\n",
    "nnet63 = connect_net.load_model(path=training_path, log=False)"
   ]
  },
  {
   "cell_type": "code",
   "execution_count": 13,
   "id": "e96c4edb",
   "metadata": {},
   "outputs": [],
   "source": [
    "v, proba = nnet63(boards.view(-1,1,6,7))"
   ]
  },
  {
   "cell_type": "code",
   "execution_count": 17,
   "id": "58104334",
   "metadata": {},
   "outputs": [
    {
     "data": {
      "text/plain": [
       "tensor([1., 1., 1., 1., 1., 1., 0., 1., 1., 1.])"
      ]
     },
     "execution_count": 17,
     "metadata": {},
     "output_type": "execute_result"
    }
   ],
   "source": [
    "winners[:10]"
   ]
  },
  {
   "cell_type": "code",
   "execution_count": 20,
   "id": "04285220",
   "metadata": {},
   "outputs": [
    {
     "data": {
      "text/plain": [
       "tensor([1., 1., 0., 1., 1., 1., 1., 1., 1., 1.])"
      ]
     },
     "execution_count": 20,
     "metadata": {},
     "output_type": "execute_result"
    }
   ],
   "source": [
    "max_v = torch.where(v > 0, torch.ones_like(v), torch.zeros_like(v))\n",
    "max_v[:10]"
   ]
  },
  {
   "cell_type": "code",
   "execution_count": 58,
   "id": "de78be90",
   "metadata": {},
   "outputs": [
    {
     "data": {
      "text/plain": [
       "0.5613629971727578"
      ]
     },
     "execution_count": 58,
     "metadata": {},
     "output_type": "execute_result"
    }
   ],
   "source": [
    "37924 / (37924 + 29633)"
   ]
  },
  {
   "cell_type": "code",
   "execution_count": 23,
   "id": "4d6fece7",
   "metadata": {},
   "outputs": [
    {
     "data": {
      "text/plain": [
       "True     37924\n",
       "False    29633\n",
       "dtype: int64"
      ]
     },
     "execution_count": 23,
     "metadata": {},
     "output_type": "execute_result"
    }
   ],
   "source": [
    "pandas.Series((max_v == winners).tolist()).value_counts()"
   ]
  },
  {
   "cell_type": "code",
   "execution_count": 39,
   "id": "7fb3240f",
   "metadata": {},
   "outputs": [],
   "source": [
    "game_cache = connect_four.GameCache()\n",
    "strategy = evaluation.NetworkStrategy(nnet=nnet63, c=1, num_mcts_sims=32, random_moves=0)\n",
    "strategy.setup(game_cache=game_cache)"
   ]
  },
  {
   "cell_type": "code",
   "execution_count": 59,
   "id": "ae375c7c",
   "metadata": {},
   "outputs": [
    {
     "name": "stdout",
     "output_type": "stream",
     "text": [
      "999\n"
     ]
    }
   ],
   "source": [
    "vals = []\n",
    "vals_alt = []\n",
    "for i, board in enumerate(boards):\n",
    "    if i % 1000 == 999:\n",
    "        print(i)\n",
    "        break\n",
    "    rep = connect_four.to_rep(board)\n",
    "    strategy.simulate(state=board, rep=rep)\n",
    "    vals.append(strategy.get_best_eval(rep=rep))\n",
    "    vals_alt.append(strategy.get_eval(rep=rep).max())\n",
    "        \n",
    "vals = torch.stack(vals)\n",
    "vals_alt = torch.stack(vals_alt)"
   ]
  },
  {
   "cell_type": "code",
   "execution_count": 61,
   "id": "4b0be176",
   "metadata": {},
   "outputs": [],
   "source": [
    "vals_ones = torch.ones_like(vals)\n",
    "max_v = torch.where(vals.abs() < .1, torch.zeros_like(vals), torch.where(vals > 0, vals_ones, -vals_ones))\n",
    "max_v_alt = torch.where(vals_alt.abs() < .1, torch.zeros_like(vals), torch.where(vals_alt > 0, vals_ones, -vals_ones))"
   ]
  },
  {
   "cell_type": "code",
   "execution_count": 62,
   "id": "c3ab2272",
   "metadata": {},
   "outputs": [
    {
     "data": {
      "text/plain": [
       "True     785\n",
       "False    214\n",
       "dtype: int64"
      ]
     },
     "execution_count": 62,
     "metadata": {},
     "output_type": "execute_result"
    }
   ],
   "source": [
    "pandas.Series((max_v == winners[:999]).tolist()).value_counts()"
   ]
  },
  {
   "cell_type": "code",
   "execution_count": 63,
   "id": "47315823",
   "metadata": {},
   "outputs": [
    {
     "data": {
      "text/plain": [
       "True     785\n",
       "False    214\n",
       "dtype: int64"
      ]
     },
     "execution_count": 63,
     "metadata": {},
     "output_type": "execute_result"
    }
   ],
   "source": [
    "pandas.Series((max_v_alt == winners[:999]).tolist()).value_counts()"
   ]
  },
  {
   "cell_type": "code",
   "execution_count": null,
   "id": "a6ae397e",
   "metadata": {},
   "outputs": [],
   "source": []
  }
 ],
 "metadata": {
  "kernelspec": {
   "display_name": "Python 3 (ipykernel)",
   "language": "python",
   "name": "python3"
  },
  "language_info": {
   "codemirror_mode": {
    "name": "ipython",
    "version": 3
   },
   "file_extension": ".py",
   "mimetype": "text/x-python",
   "name": "python",
   "nbconvert_exporter": "python",
   "pygments_lexer": "ipython3",
   "version": "3.9.7"
  }
 },
 "nbformat": 4,
 "nbformat_minor": 5
}
