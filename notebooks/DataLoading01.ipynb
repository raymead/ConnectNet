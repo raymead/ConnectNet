{
 "cells": [
  {
   "cell_type": "code",
   "execution_count": 72,
   "id": "39ea8e98",
   "metadata": {},
   "outputs": [],
   "source": [
    "import pandas\n",
    "import numpy as np\n",
    "import connect_net\n",
    "import torch"
   ]
  },
  {
   "cell_type": "code",
   "execution_count": 57,
   "id": "51c35230",
   "metadata": {},
   "outputs": [
    {
     "name": "stdout",
     "output_type": "stream",
     "text": [
      "67557\n"
     ]
    },
    {
     "data": {
      "text/html": [
       "<div>\n",
       "<style scoped>\n",
       "    .dataframe tbody tr th:only-of-type {\n",
       "        vertical-align: middle;\n",
       "    }\n",
       "\n",
       "    .dataframe tbody tr th {\n",
       "        vertical-align: top;\n",
       "    }\n",
       "\n",
       "    .dataframe thead th {\n",
       "        text-align: right;\n",
       "    }\n",
       "</style>\n",
       "<table border=\"1\" class=\"dataframe\">\n",
       "  <thead>\n",
       "    <tr style=\"text-align: right;\">\n",
       "      <th></th>\n",
       "      <th>a1</th>\n",
       "      <th>a2</th>\n",
       "      <th>a3</th>\n",
       "      <th>a4</th>\n",
       "      <th>a5</th>\n",
       "      <th>a6</th>\n",
       "      <th>b1</th>\n",
       "      <th>b2</th>\n",
       "      <th>b3</th>\n",
       "      <th>b4</th>\n",
       "      <th>...</th>\n",
       "      <th>f4</th>\n",
       "      <th>f5</th>\n",
       "      <th>f6</th>\n",
       "      <th>g1</th>\n",
       "      <th>g2</th>\n",
       "      <th>g3</th>\n",
       "      <th>g4</th>\n",
       "      <th>g5</th>\n",
       "      <th>g6</th>\n",
       "      <th>result</th>\n",
       "    </tr>\n",
       "  </thead>\n",
       "  <tbody>\n",
       "    <tr>\n",
       "      <th>0</th>\n",
       "      <td>0</td>\n",
       "      <td>0</td>\n",
       "      <td>0</td>\n",
       "      <td>0</td>\n",
       "      <td>0</td>\n",
       "      <td>0</td>\n",
       "      <td>0</td>\n",
       "      <td>0</td>\n",
       "      <td>0</td>\n",
       "      <td>0</td>\n",
       "      <td>...</td>\n",
       "      <td>0</td>\n",
       "      <td>0</td>\n",
       "      <td>0</td>\n",
       "      <td>0</td>\n",
       "      <td>0</td>\n",
       "      <td>0</td>\n",
       "      <td>0</td>\n",
       "      <td>0</td>\n",
       "      <td>0</td>\n",
       "      <td>1</td>\n",
       "    </tr>\n",
       "    <tr>\n",
       "      <th>1</th>\n",
       "      <td>0</td>\n",
       "      <td>0</td>\n",
       "      <td>0</td>\n",
       "      <td>0</td>\n",
       "      <td>0</td>\n",
       "      <td>0</td>\n",
       "      <td>0</td>\n",
       "      <td>0</td>\n",
       "      <td>0</td>\n",
       "      <td>0</td>\n",
       "      <td>...</td>\n",
       "      <td>0</td>\n",
       "      <td>0</td>\n",
       "      <td>0</td>\n",
       "      <td>0</td>\n",
       "      <td>0</td>\n",
       "      <td>0</td>\n",
       "      <td>0</td>\n",
       "      <td>0</td>\n",
       "      <td>0</td>\n",
       "      <td>1</td>\n",
       "    </tr>\n",
       "    <tr>\n",
       "      <th>2</th>\n",
       "      <td>0</td>\n",
       "      <td>0</td>\n",
       "      <td>0</td>\n",
       "      <td>0</td>\n",
       "      <td>0</td>\n",
       "      <td>0</td>\n",
       "      <td>-1</td>\n",
       "      <td>0</td>\n",
       "      <td>0</td>\n",
       "      <td>0</td>\n",
       "      <td>...</td>\n",
       "      <td>0</td>\n",
       "      <td>0</td>\n",
       "      <td>0</td>\n",
       "      <td>0</td>\n",
       "      <td>0</td>\n",
       "      <td>0</td>\n",
       "      <td>0</td>\n",
       "      <td>0</td>\n",
       "      <td>0</td>\n",
       "      <td>1</td>\n",
       "    </tr>\n",
       "  </tbody>\n",
       "</table>\n",
       "<p>3 rows × 43 columns</p>\n",
       "</div>"
      ],
      "text/plain": [
       "   a1  a2  a3  a4  a5  a6  b1  b2  b3  b4  ...  f4  f5  f6  g1  g2  g3  g4  \\\n",
       "0   0   0   0   0   0   0   0   0   0   0  ...   0   0   0   0   0   0   0   \n",
       "1   0   0   0   0   0   0   0   0   0   0  ...   0   0   0   0   0   0   0   \n",
       "2   0   0   0   0   0   0  -1   0   0   0  ...   0   0   0   0   0   0   0   \n",
       "\n",
       "   g5  g6  result  \n",
       "0   0   0       1  \n",
       "1   0   0       1  \n",
       "2   0   0       1  \n",
       "\n",
       "[3 rows x 43 columns]"
      ]
     },
     "execution_count": 57,
     "metadata": {},
     "output_type": "execute_result"
    }
   ],
   "source": [
    "df = pandas.read_csv(\"connect-4.data\", header=None)\n",
    "print(len(df))\n",
    "cols = [f\"a{i}\" for i in range(1, 7)] \\\n",
    "    + [f\"b{i}\" for i in range(1, 7)] \\\n",
    "    + [f\"c{i}\" for i in range(1, 7)] \\\n",
    "    + [f\"d{i}\" for i in range(1, 7)] \\\n",
    "    + [f\"e{i}\" for i in range(1, 7)] \\\n",
    "    + [f\"f{i}\" for i in range(1, 7)] \\\n",
    "    + [f\"g{i}\" for i in range(1, 7)]\n",
    "df = df.rename(columns={i: c for i, c in enumerate(cols)})\n",
    "df = df.rename(columns={42: \"result\"})\n",
    "for c in cols:\n",
    "    df[c] = df[c].map({\"b\": 0, \"x\": 1, \"o\": -1})\n",
    "df[\"result\"] = df[\"result\"].map({\"win\": 1, \"draw\": 0, \"loss\": -1})\n",
    "df.head(3)"
   ]
  },
  {
   "cell_type": "code",
   "execution_count": 46,
   "id": "9295c15f",
   "metadata": {},
   "outputs": [
    {
     "data": {
      "text/plain": [
       "array([[ 6, 12, 18, 24, 30, 36, 42],\n",
       "       [ 5, 11, 17, 23, 29, 35, 41],\n",
       "       [ 4, 10, 16, 22, 28, 34, 40],\n",
       "       [ 3,  9, 15, 21, 27, 33, 39],\n",
       "       [ 2,  8, 14, 20, 26, 32, 38],\n",
       "       [ 1,  7, 13, 19, 25, 31, 37]])"
      ]
     },
     "execution_count": 46,
     "metadata": {},
     "output_type": "execute_result"
    }
   ],
   "source": [
    "np.flip(np.reshape(np.array(list(range(1, 43))), (7, 6)).T, axis=0)"
   ]
  },
  {
   "cell_type": "code",
   "execution_count": null,
   "id": "7e41be76",
   "metadata": {
    "scrolled": true
   },
   "outputs": [],
   "source": [
    "vals = []\n",
    "for i in range(len(df)):\n",
    "    if i % 10000 == 0:\n",
    "        print(i)\n",
    "    vals.append(np.flip(np.reshape(df.iloc[i][cols].values, (7, 6)).T, axis=0))"
   ]
  },
  {
   "cell_type": "code",
   "execution_count": 64,
   "id": "e90c03e6",
   "metadata": {},
   "outputs": [],
   "source": [
    "vals_stack = np.stack(vals)\n",
    "res_vals = df[\"result\"].values"
   ]
  },
  {
   "cell_type": "code",
   "execution_count": 68,
   "id": "7eb1236b",
   "metadata": {},
   "outputs": [
    {
     "name": "stdout",
     "output_type": "stream",
     "text": [
      "[[ 0  0  0 -1  0  0  0]\n",
      " [ 0  0  0  1  0  0  0]\n",
      " [ 0  0  0 -1  0  0  0]\n",
      " [ 0  0  0  1  0  0  0]\n",
      " [ 0  0  0 -1  0  0  0]\n",
      " [ 0  0  1  1  0 -1  0]]\n",
      "1\n"
     ]
    }
   ],
   "source": [
    "i = 3\n",
    "print(vals_stack[i])\n",
    "print(res_vals[i])"
   ]
  },
  {
   "cell_type": "code",
   "execution_count": 82,
   "id": "4503e95f",
   "metadata": {},
   "outputs": [
    {
     "data": {
      "text/plain": [
       "torch.Size([100, 1, 6, 7])"
      ]
     },
     "execution_count": 82,
     "metadata": {},
     "output_type": "execute_result"
    }
   ],
   "source": [
    "input_vals = torch.Tensor(vals_stack).unsqueeze(1)\n",
    "output_vals = torch.Tensor(df[\"result\"].values)\n",
    "input_vals[:100].shape"
   ]
  },
  {
   "cell_type": "code",
   "execution_count": 88,
   "id": "7559602c",
   "metadata": {},
   "outputs": [],
   "source": [
    "nnet = connect_net.ConnectNet()\n",
    "optimizer = torch.optim.Adam(nnet.parameters(), lr=0.001)\n",
    "loss_fn = torch.nn.MSELoss()\n"
   ]
  },
  {
   "cell_type": "code",
   "execution_count": 181,
   "id": "bbdcfd6a",
   "metadata": {},
   "outputs": [
    {
     "name": "stdout",
     "output_type": "stream",
     "text": [
      "tensor(0.8311, grad_fn=<MseLossBackward0>)\n",
      "torch.Size([100])\n",
      "torch.Size([100, 7])\n"
     ]
    }
   ],
   "source": [
    "\n",
    "v, proba = nnet(input_vals[100:200])\n",
    "\n",
    "loss = loss_fn(v, output_vals[100:200])\n",
    "print(loss)\n",
    "print(v.shape)\n",
    "print(proba.shape)\n",
    "optimizer.zero_grad()\n",
    "loss.backward()\n",
    "optimizer.step()"
   ]
  },
  {
   "cell_type": "code",
   "execution_count": 112,
   "id": "4ba7165e",
   "metadata": {},
   "outputs": [],
   "source": []
  },
  {
   "cell_type": "code",
   "execution_count": null,
   "id": "528aff3e",
   "metadata": {},
   "outputs": [],
   "source": []
  }
 ],
 "metadata": {
  "kernelspec": {
   "display_name": "Python 3 (ipykernel)",
   "language": "python",
   "name": "python3"
  },
  "language_info": {
   "codemirror_mode": {
    "name": "ipython",
    "version": 3
   },
   "file_extension": ".py",
   "mimetype": "text/x-python",
   "name": "python",
   "nbconvert_exporter": "python",
   "pygments_lexer": "ipython3",
   "version": "3.9.7"
  }
 },
 "nbformat": 4,
 "nbformat_minor": 5
}
