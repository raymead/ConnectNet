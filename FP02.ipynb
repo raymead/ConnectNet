{
 "cells": [
  {
   "cell_type": "code",
   "execution_count": 1,
   "id": "608b2643",
   "metadata": {},
   "outputs": [],
   "source": [
    "import pandas\n",
    "import numpy as np\n",
    "import torch\n",
    "import matplotlib.pyplot as plt\n",
    "import random\n",
    "\n",
    "import connect_four\n",
    "import mcts\n",
    "import connect_net\n",
    "%matplotlib inline\n",
    "%load_ext autoreload\n",
    "%autoreload 2"
   ]
  },
  {
   "cell_type": "code",
   "execution_count": null,
   "id": "3707084c",
   "metadata": {
    "scrolled": true
   },
   "outputs": [
    {
     "name": "stdout",
     "output_type": "stream",
     "text": [
      "\n",
      "Iteration: 0\n",
      "0,1,2,3,4,5,6,7,1000\n",
      "8,9,10,11,12,13,14,15,16,17,18,19,20,21,2000\n",
      "22,23,24,"
     ]
    }
   ],
   "source": [
    "nnet = connect_net.ConnectNet()\n",
    "optimizer = torch.optim.Adam(nnet.parameters(), lr=0.001)\n",
    "mcts.policy_iteration(nnet=nnet, num_iterations=10, num_episodes=100, num_mcts_sims=25, optimizer=optimizer)"
   ]
  },
  {
   "cell_type": "code",
   "execution_count": null,
   "id": "f65c6df6",
   "metadata": {},
   "outputs": [],
   "source": [
    "# num_iterations=10\n",
    "# num_episodes=10\n",
    "# num_mcts_sims=25\n",
    "# for i in range(num_iterations):\n",
    "#     examples = []\n",
    "#     print(f\"Iteration: {i}\")\n",
    "#     with torch.multiprocessing.Pool(processes=8) as pool:\n",
    "#         nnet.share_memory()\n",
    "#         args = []\n",
    "#         for e in range(num_episodes):\n",
    "#             print(e)\n",
    "#             args.append((nnet, num_mcts_sims, e))\n",
    "#         for output in pool.starmap(mcts.execute_episode, iterable=args):\n",
    "#             print(output)\n",
    "#             break\n",
    "#     break\n",
    "#     train_nnet(nnet=nnet, examples=examples, optimizer=optimizer)"
   ]
  },
  {
   "cell_type": "code",
   "execution_count": null,
   "id": "c9bfa0a0",
   "metadata": {},
   "outputs": [],
   "source": [
    "def foo(q):\n",
    "    q.put('hello')\n",
    "\n",
    "if __name__ == '__main__':\n",
    "    mp.set_start_method('spawn')\n",
    "    q = mp.Queue()\n",
    "    p = mp.Process(target=foo, args=(q,))\n",
    "    p.start()\n",
    "    print(q.get())\n",
    "    p.join()"
   ]
  }
 ],
 "metadata": {
  "kernelspec": {
   "display_name": "Python 3 (ipykernel)",
   "language": "python",
   "name": "python3"
  },
  "language_info": {
   "codemirror_mode": {
    "name": "ipython",
    "version": 3
   },
   "file_extension": ".py",
   "mimetype": "text/x-python",
   "name": "python",
   "nbconvert_exporter": "python",
   "pygments_lexer": "ipython3",
   "version": "3.9.7"
  }
 },
 "nbformat": 4,
 "nbformat_minor": 5
}
