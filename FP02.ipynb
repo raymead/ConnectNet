{
 "cells": [
  {
   "cell_type": "code",
   "execution_count": 1,
   "id": "cfef96f2",
   "metadata": {},
   "outputs": [],
   "source": [
    "import pandas\n",
    "import numpy as np\n",
    "import torch\n",
    "import matplotlib.pyplot as plt\n",
    "import random\n",
    "\n",
    "import connect_four\n",
    "import mcts\n",
    "import connect_net\n",
    "%matplotlib inline\n",
    "%load_ext autoreload\n",
    "%autoreload 2"
   ]
  },
  {
   "cell_type": "code",
   "execution_count": null,
   "id": "da94b1e2",
   "metadata": {
    "scrolled": true
   },
   "outputs": [
    {
     "name": "stdout",
     "output_type": "stream",
     "text": [
      "\n",
      "Iteration: 0\n",
      "0,1,2,3,4,5,6,7,8,9,10,1000\n",
      "11,12,13,14,15,16,17,18,19,20,21,2000\n",
      "22,23,24,25,26,27,28,29,30,31,32,33,34,35,36,37,3000\n",
      "38,39,40,41,42,43,44,45,46,47,48,49,50,51,52,53,4000\n",
      "54,55,56,57,58,59,60,61,62,63,64,65,66,67,68,69,70,71,72,73,74,75,76,77,78,79,80,81,82,5000\n",
      "83,84,85,86,87,88,89,90,91,92,93,94,95,96,97,98,99,\n",
      "Iteration: 1\n",
      "0,1,2,3,4,5,6,7,8,9,10,1000\n",
      "11,12,13,14,15,16,17,18,19,20,21,2000\n",
      "22,23,24,25,26,27,28,29,30,31,32,3000\n",
      "33,34,35,36,37,38,39,40,41,42,43,44,45,4000\n",
      "46,47,48,49,50,51,52,53,54,55,56,57,58,59,60,61,62,63,64,65,66,5000\n",
      "67,68,69,70,71,72,73,74,75,76,77,78,79,80,81,82,83,84,85,86,6000\n",
      "87,88,89,90,91,92,93,94,95,96,97,98,99,\n",
      "Iteration: 2\n",
      "0,1,2,3,4,5,6,7,1000\n",
      "8,9,10,11,12,13,14,15,"
     ]
    }
   ],
   "source": [
    "nnet = connect_net.ConnectNet()\n",
    "optimizer = torch.optim.Adam(nnet.parameters(), lr=0.001)\n",
    "mcts.policy_iteration(nnet=nnet, num_iterations=10, num_episodes=100, num_mcts_sims=25, optimizer=optimizer)"
   ]
  },
  {
   "cell_type": "code",
   "execution_count": null,
   "id": "8d5c4c57",
   "metadata": {},
   "outputs": [],
   "source": []
  }
 ],
 "metadata": {
  "kernelspec": {
   "display_name": "Python 3 (ipykernel)",
   "language": "python",
   "name": "python3"
  },
  "language_info": {
   "codemirror_mode": {
    "name": "ipython",
    "version": 3
   },
   "file_extension": ".py",
   "mimetype": "text/x-python",
   "name": "python",
   "nbconvert_exporter": "python",
   "pygments_lexer": "ipython3",
   "version": "3.9.7"
  }
 },
 "nbformat": 4,
 "nbformat_minor": 5
}
