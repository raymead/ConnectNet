{
 "cells": [
  {
   "cell_type": "code",
   "execution_count": 1,
   "id": "5455a60c",
   "metadata": {},
   "outputs": [],
   "source": [
    "import pandas\n",
    "import numpy as np\n",
    "import torch\n",
    "import matplotlib.pyplot as plt\n",
    "import random\n",
    "\n",
    "import connect_four\n",
    "import mcts\n",
    "import connect_net\n",
    "%matplotlib inline\n",
    "%load_ext autoreload\n",
    "%autoreload 2"
   ]
  },
  {
   "cell_type": "code",
   "execution_count": 7,
   "id": "5ab6c422",
   "metadata": {
    "scrolled": true
   },
   "outputs": [
    {
     "name": "stdout",
     "output_type": "stream",
     "text": [
      "\n",
      "Iteration: 0\n",
      "0,1,2,3,4,5,"
     ]
    },
    {
     "ename": "KeyboardInterrupt",
     "evalue": "",
     "output_type": "error",
     "traceback": [
      "\u001b[0;31m---------------------------------------------------------------------------\u001b[0m",
      "\u001b[0;31mKeyboardInterrupt\u001b[0m                         Traceback (most recent call last)",
      "Input \u001b[0;32mIn [7]\u001b[0m, in \u001b[0;36m<cell line: 3>\u001b[0;34m()\u001b[0m\n\u001b[1;32m      1\u001b[0m nnet \u001b[38;5;241m=\u001b[39m connect_net\u001b[38;5;241m.\u001b[39mConnectNet()\n\u001b[1;32m      2\u001b[0m optimizer \u001b[38;5;241m=\u001b[39m torch\u001b[38;5;241m.\u001b[39moptim\u001b[38;5;241m.\u001b[39mAdam(nnet\u001b[38;5;241m.\u001b[39mparameters(), lr\u001b[38;5;241m=\u001b[39m\u001b[38;5;241m0.001\u001b[39m)\n\u001b[0;32m----> 3\u001b[0m \u001b[43mmcts\u001b[49m\u001b[38;5;241;43m.\u001b[39;49m\u001b[43mpolicy_iteration\u001b[49m\u001b[43m(\u001b[49m\u001b[43mnnet\u001b[49m\u001b[38;5;241;43m=\u001b[39;49m\u001b[43mnnet\u001b[49m\u001b[43m,\u001b[49m\u001b[43m \u001b[49m\u001b[43mnum_iterations\u001b[49m\u001b[38;5;241;43m=\u001b[39;49m\u001b[38;5;241;43m10\u001b[39;49m\u001b[43m,\u001b[49m\u001b[43m \u001b[49m\u001b[43mnum_episodes\u001b[49m\u001b[38;5;241;43m=\u001b[39;49m\u001b[38;5;241;43m100\u001b[39;49m\u001b[43m,\u001b[49m\u001b[43m \u001b[49m\u001b[43mnum_mcts_sims\u001b[49m\u001b[38;5;241;43m=\u001b[39;49m\u001b[38;5;241;43m25\u001b[39;49m\u001b[43m,\u001b[49m\u001b[43m \u001b[49m\u001b[43moptimizer\u001b[49m\u001b[38;5;241;43m=\u001b[39;49m\u001b[43moptimizer\u001b[49m\u001b[43m)\u001b[49m\n",
      "File \u001b[0;32m~/code/FinalProject563/mcts.py:88\u001b[0m, in \u001b[0;36mpolicy_iteration\u001b[0;34m(nnet, num_iterations, num_episodes, num_mcts_sims, optimizer)\u001b[0m\n\u001b[1;32m     86\u001b[0m     \u001b[38;5;28;01mfor\u001b[39;00m e \u001b[38;5;129;01min\u001b[39;00m \u001b[38;5;28mrange\u001b[39m(num_episodes):\n\u001b[1;32m     87\u001b[0m         \u001b[38;5;28mprint\u001b[39m(e, end\u001b[38;5;241m=\u001b[39m\u001b[38;5;124m\"\u001b[39m\u001b[38;5;124m,\u001b[39m\u001b[38;5;124m\"\u001b[39m)\n\u001b[0;32m---> 88\u001b[0m         examples \u001b[38;5;241m+\u001b[39m\u001b[38;5;241m=\u001b[39m \u001b[43mexecute_episode\u001b[49m\u001b[43m(\u001b[49m\u001b[43mnnet\u001b[49m\u001b[38;5;241;43m=\u001b[39;49m\u001b[43mnnet\u001b[49m\u001b[43m,\u001b[49m\u001b[43m \u001b[49m\u001b[43mnum_mcts_sims\u001b[49m\u001b[38;5;241;43m=\u001b[39;49m\u001b[43mnum_mcts_sims\u001b[49m\u001b[43m,\u001b[49m\u001b[43m \u001b[49m\u001b[43mnc\u001b[49m\u001b[38;5;241;43m=\u001b[39;49m\u001b[43mnc\u001b[49m\u001b[43m)\u001b[49m\n\u001b[1;32m     90\u001b[0m train_nnet(nnet\u001b[38;5;241m=\u001b[39mnnet, examples\u001b[38;5;241m=\u001b[39mexamples, optimizer\u001b[38;5;241m=\u001b[39moptimizer)\n",
      "File \u001b[0;32m~/code/FinalProject563/mcts.py:110\u001b[0m, in \u001b[0;36mexecute_episode\u001b[0;34m(nnet, num_mcts_sims, nc)\u001b[0m\n\u001b[1;32m    108\u001b[0m \u001b[38;5;28;01mwhile\u001b[39;00m \u001b[38;5;28;01mTrue\u001b[39;00m:\n\u001b[1;32m    109\u001b[0m     \u001b[38;5;28;01mfor\u001b[39;00m i \u001b[38;5;129;01min\u001b[39;00m \u001b[38;5;28mrange\u001b[39m(num_mcts_sims):\n\u001b[0;32m--> 110\u001b[0m         \u001b[43mmcts\u001b[49m\u001b[38;5;241;43m.\u001b[39;49m\u001b[43msearch\u001b[49m\u001b[43m(\u001b[49m\u001b[43mstate\u001b[49m\u001b[38;5;241;43m=\u001b[39;49m\u001b[43mstate\u001b[49m\u001b[43m,\u001b[49m\u001b[43m \u001b[49m\u001b[43mnnet\u001b[49m\u001b[38;5;241;43m=\u001b[39;49m\u001b[43mnnet\u001b[49m\u001b[43m)\u001b[49m\n\u001b[1;32m    111\u001b[0m     pi_val \u001b[38;5;241m=\u001b[39m mcts\u001b[38;5;241m.\u001b[39mpi(state\u001b[38;5;241m=\u001b[39mstate)\n\u001b[1;32m    112\u001b[0m     examples\u001b[38;5;241m.\u001b[39mappend([state, pi_val, \u001b[38;5;28;01mNone\u001b[39;00m])\n",
      "File \u001b[0;32m~/code/FinalProject563/mcts.py:67\u001b[0m, in \u001b[0;36mMCTS.search\u001b[0;34m(self, state, nnet)\u001b[0m\n\u001b[1;32m     64\u001b[0m a \u001b[38;5;241m=\u001b[39m best_a\n\u001b[1;32m     66\u001b[0m sp \u001b[38;5;241m=\u001b[39m connect_four\u001b[38;5;241m.\u001b[39mnext_state(state, a)\n\u001b[0;32m---> 67\u001b[0m v \u001b[38;5;241m=\u001b[39m \u001b[38;5;28;43mself\u001b[39;49m\u001b[38;5;241;43m.\u001b[39;49m\u001b[43msearch\u001b[49m\u001b[43m(\u001b[49m\u001b[43msp\u001b[49m\u001b[43m \u001b[49m\u001b[38;5;241;43m*\u001b[39;49m\u001b[43m \u001b[49m\u001b[38;5;241;43m-\u001b[39;49m\u001b[38;5;241;43m1\u001b[39;49m\u001b[43m,\u001b[49m\u001b[43m \u001b[49m\u001b[43mnnet\u001b[49m\u001b[43m)\u001b[49m\n\u001b[1;32m     69\u001b[0m \u001b[38;5;28mself\u001b[39m\u001b[38;5;241m.\u001b[39mQ[rep][a] \u001b[38;5;241m=\u001b[39m (\u001b[38;5;28mself\u001b[39m\u001b[38;5;241m.\u001b[39mN[rep][a] \u001b[38;5;241m+\u001b[39m v) \u001b[38;5;241m/\u001b[39m (\u001b[38;5;28mself\u001b[39m\u001b[38;5;241m.\u001b[39mN[rep][a] \u001b[38;5;241m+\u001b[39m \u001b[38;5;241m1\u001b[39m)\n\u001b[1;32m     70\u001b[0m \u001b[38;5;28mself\u001b[39m\u001b[38;5;241m.\u001b[39mN[rep][a] \u001b[38;5;241m+\u001b[39m\u001b[38;5;241m=\u001b[39m \u001b[38;5;241m1\u001b[39m\n",
      "File \u001b[0;32m~/code/FinalProject563/mcts.py:67\u001b[0m, in \u001b[0;36mMCTS.search\u001b[0;34m(self, state, nnet)\u001b[0m\n\u001b[1;32m     64\u001b[0m a \u001b[38;5;241m=\u001b[39m best_a\n\u001b[1;32m     66\u001b[0m sp \u001b[38;5;241m=\u001b[39m connect_four\u001b[38;5;241m.\u001b[39mnext_state(state, a)\n\u001b[0;32m---> 67\u001b[0m v \u001b[38;5;241m=\u001b[39m \u001b[38;5;28;43mself\u001b[39;49m\u001b[38;5;241;43m.\u001b[39;49m\u001b[43msearch\u001b[49m\u001b[43m(\u001b[49m\u001b[43msp\u001b[49m\u001b[43m \u001b[49m\u001b[38;5;241;43m*\u001b[39;49m\u001b[43m \u001b[49m\u001b[38;5;241;43m-\u001b[39;49m\u001b[38;5;241;43m1\u001b[39;49m\u001b[43m,\u001b[49m\u001b[43m \u001b[49m\u001b[43mnnet\u001b[49m\u001b[43m)\u001b[49m\n\u001b[1;32m     69\u001b[0m \u001b[38;5;28mself\u001b[39m\u001b[38;5;241m.\u001b[39mQ[rep][a] \u001b[38;5;241m=\u001b[39m (\u001b[38;5;28mself\u001b[39m\u001b[38;5;241m.\u001b[39mN[rep][a] \u001b[38;5;241m+\u001b[39m v) \u001b[38;5;241m/\u001b[39m (\u001b[38;5;28mself\u001b[39m\u001b[38;5;241m.\u001b[39mN[rep][a] \u001b[38;5;241m+\u001b[39m \u001b[38;5;241m1\u001b[39m)\n\u001b[1;32m     70\u001b[0m \u001b[38;5;28mself\u001b[39m\u001b[38;5;241m.\u001b[39mN[rep][a] \u001b[38;5;241m+\u001b[39m\u001b[38;5;241m=\u001b[39m \u001b[38;5;241m1\u001b[39m\n",
      "File \u001b[0;32m~/code/FinalProject563/mcts.py:67\u001b[0m, in \u001b[0;36mMCTS.search\u001b[0;34m(self, state, nnet)\u001b[0m\n\u001b[1;32m     64\u001b[0m a \u001b[38;5;241m=\u001b[39m best_a\n\u001b[1;32m     66\u001b[0m sp \u001b[38;5;241m=\u001b[39m connect_four\u001b[38;5;241m.\u001b[39mnext_state(state, a)\n\u001b[0;32m---> 67\u001b[0m v \u001b[38;5;241m=\u001b[39m \u001b[38;5;28;43mself\u001b[39;49m\u001b[38;5;241;43m.\u001b[39;49m\u001b[43msearch\u001b[49m\u001b[43m(\u001b[49m\u001b[43msp\u001b[49m\u001b[43m \u001b[49m\u001b[38;5;241;43m*\u001b[39;49m\u001b[43m \u001b[49m\u001b[38;5;241;43m-\u001b[39;49m\u001b[38;5;241;43m1\u001b[39;49m\u001b[43m,\u001b[49m\u001b[43m \u001b[49m\u001b[43mnnet\u001b[49m\u001b[43m)\u001b[49m\n\u001b[1;32m     69\u001b[0m \u001b[38;5;28mself\u001b[39m\u001b[38;5;241m.\u001b[39mQ[rep][a] \u001b[38;5;241m=\u001b[39m (\u001b[38;5;28mself\u001b[39m\u001b[38;5;241m.\u001b[39mN[rep][a] \u001b[38;5;241m+\u001b[39m v) \u001b[38;5;241m/\u001b[39m (\u001b[38;5;28mself\u001b[39m\u001b[38;5;241m.\u001b[39mN[rep][a] \u001b[38;5;241m+\u001b[39m \u001b[38;5;241m1\u001b[39m)\n\u001b[1;32m     70\u001b[0m \u001b[38;5;28mself\u001b[39m\u001b[38;5;241m.\u001b[39mN[rep][a] \u001b[38;5;241m+\u001b[39m\u001b[38;5;241m=\u001b[39m \u001b[38;5;241m1\u001b[39m\n",
      "File \u001b[0;32m~/code/FinalProject563/mcts.py:44\u001b[0m, in \u001b[0;36mMCTS.search\u001b[0;34m(self, state, nnet)\u001b[0m\n\u001b[1;32m     43\u001b[0m \u001b[38;5;28;01mdef\u001b[39;00m \u001b[38;5;21msearch\u001b[39m(\u001b[38;5;28mself\u001b[39m, state: torch\u001b[38;5;241m.\u001b[39mTensor, nnet: torch\u001b[38;5;241m.\u001b[39mnn\u001b[38;5;241m.\u001b[39mModule):\n\u001b[0;32m---> 44\u001b[0m     ge \u001b[38;5;241m=\u001b[39m \u001b[43mconnect_four\u001b[49m\u001b[38;5;241;43m.\u001b[39;49m\u001b[43mgame_ended\u001b[49m\u001b[43m(\u001b[49m\u001b[43mstate\u001b[49m\u001b[43m)\u001b[49m\n\u001b[1;32m     45\u001b[0m     \u001b[38;5;28;01mif\u001b[39;00m ge \u001b[38;5;129;01mis\u001b[39;00m \u001b[38;5;129;01mnot\u001b[39;00m \u001b[38;5;28;01mNone\u001b[39;00m:\n\u001b[1;32m     46\u001b[0m         \u001b[38;5;28;01mreturn\u001b[39;00m \u001b[38;5;241m-\u001b[39mge\n",
      "File \u001b[0;32m~/code/FinalProject563/connect_four.py:32\u001b[0m, in \u001b[0;36mgame_ended\u001b[0;34m(state)\u001b[0m\n\u001b[1;32m     30\u001b[0m state \u001b[38;5;241m=\u001b[39m state\u001b[38;5;241m.\u001b[39msqueeze()\n\u001b[1;32m     31\u001b[0m \u001b[38;5;28;01mfor\u001b[39;00m plist \u001b[38;5;129;01min\u001b[39;00m pairs:\n\u001b[0;32m---> 32\u001b[0m     val \u001b[38;5;241m=\u001b[39m \u001b[43mstate\u001b[49m\u001b[43m[\u001b[49m\u001b[43mplist\u001b[49m\u001b[43m[\u001b[49m\u001b[38;5;241;43m0\u001b[39;49m\u001b[43m]\u001b[49m\u001b[43m,\u001b[49m\u001b[43m \u001b[49m\u001b[43mplist\u001b[49m\u001b[43m[\u001b[49m\u001b[38;5;241;43m1\u001b[39;49m\u001b[43m]\u001b[49m\u001b[43m]\u001b[49m\u001b[38;5;241m.\u001b[39msum()\n\u001b[1;32m     33\u001b[0m     \u001b[38;5;28;01mif\u001b[39;00m val \u001b[38;5;241m==\u001b[39m \u001b[38;5;241m4\u001b[39m:\n\u001b[1;32m     34\u001b[0m         \u001b[38;5;28;01mreturn\u001b[39;00m \u001b[38;5;241m1\u001b[39m\n",
      "\u001b[0;31mKeyboardInterrupt\u001b[0m: "
     ]
    }
   ],
   "source": [
    "nnet = connect_net.ConnectNet()\n",
    "optimizer = torch.optim.Adam(nnet.parameters(), lr=0.001)\n",
    "mcts.policy_iteration(nnet=nnet, num_iterations=10, num_episodes=100, num_mcts_sims=25, optimizer=optimizer)"
   ]
  },
  {
   "cell_type": "code",
   "execution_count": null,
   "id": "8b163936",
   "metadata": {},
   "outputs": [],
   "source": [
    "# num_iterations=10\n",
    "# num_episodes=10\n",
    "# num_mcts_sims=25\n",
    "# for i in range(num_iterations):\n",
    "#     examples = []\n",
    "#     print(f\"Iteration: {i}\")\n",
    "#     with torch.multiprocessing.Pool(processes=8) as pool:\n",
    "#         nnet.share_memory()\n",
    "#         args = []\n",
    "#         for e in range(num_episodes):\n",
    "#             print(e)\n",
    "#             args.append((nnet, num_mcts_sims, e))\n",
    "#         for output in pool.starmap(mcts.execute_episode, iterable=args):\n",
    "#             print(output)\n",
    "#             break\n",
    "#     break\n",
    "#     train_nnet(nnet=nnet, examples=examples, optimizer=optimizer)"
   ]
  },
  {
   "cell_type": "code",
   "execution_count": null,
   "id": "8e1a3e9c",
   "metadata": {},
   "outputs": [],
   "source": [
    "def foo(q):\n",
    "    q.put('hello')\n",
    "\n",
    "if __name__ == '__main__':\n",
    "    mp.set_start_method('spawn')\n",
    "    q = mp.Queue()\n",
    "    p = mp.Process(target=foo, args=(q,))\n",
    "    p.start()\n",
    "    print(q.get())\n",
    "    p.join()"
   ]
  }
 ],
 "metadata": {
  "kernelspec": {
   "display_name": "Python 3 (ipykernel)",
   "language": "python",
   "name": "python3"
  },
  "language_info": {
   "codemirror_mode": {
    "name": "ipython",
    "version": 3
   },
   "file_extension": ".py",
   "mimetype": "text/x-python",
   "name": "python",
   "nbconvert_exporter": "python",
   "pygments_lexer": "ipython3",
   "version": "3.9.7"
  }
 },
 "nbformat": 4,
 "nbformat_minor": 5
}
